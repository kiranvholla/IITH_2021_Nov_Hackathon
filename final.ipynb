{
 "cells": [
  {
   "cell_type": "code",
   "execution_count": 1,
   "id": "481968aa",
   "metadata": {
    "_cell_guid": "b1076dfc-b9ad-4769-8c92-a6c4dae69d19",
    "_uuid": "8f2839f25d086af736a60e9eeb907d3b93b6e0e5",
    "execution": {
     "iopub.execute_input": "2021-11-15T16:34:04.180139Z",
     "iopub.status.busy": "2021-11-15T16:34:04.172202Z",
     "iopub.status.idle": "2021-11-15T16:34:06.756620Z",
     "shell.execute_reply": "2021-11-15T16:34:06.757221Z",
     "shell.execute_reply.started": "2021-11-15T16:25:55.478671Z"
    },
    "papermill": {
     "duration": 2.632829,
     "end_time": "2021-11-15T16:34:06.757539",
     "exception": false,
     "start_time": "2021-11-15T16:34:04.124710",
     "status": "completed"
    },
    "tags": []
   },
   "outputs": [],
   "source": [
    "import csv\n",
    "import math\n",
    "import sys\n",
    "import os\n",
    "import datetime\n",
    "import gc\n",
    "import psutil\n",
    "\n",
    "import numpy as np\n",
    "import pandas as pd\n",
    "\n",
    "import random\n",
    "from random import seed\n",
    "from random import randrange\n",
    "\n",
    "import sklearn\n",
    "from sklearn import svm\n",
    "from sklearn.svm import LinearSVC\n",
    "from sklearn.preprocessing import StandardScaler\n",
    "from sklearn.pipeline import make_pipeline\n",
    "from sklearn.model_selection import StratifiedShuffleSplit, StratifiedKFold\n",
    "from sklearn import datasets\n",
    "from sklearn.ensemble import RandomForestClassifier\n",
    "from sklearn.model_selection import GridSearchCV\n",
    "from sklearn.model_selection import RandomizedSearchCV\n",
    "from sklearn.linear_model import LogisticRegression\n",
    "\n",
    "import torch\n",
    "import torch.nn as nn\n",
    "import torch.nn.functional as F\n",
    "from torch.autograd import Variable\n",
    "\n",
    "from catboost import CatBoostClassifier"
   ]
  },
  {
   "cell_type": "code",
   "execution_count": 2,
   "id": "f4bf18b6",
   "metadata": {
    "execution": {
     "iopub.execute_input": "2021-11-15T16:34:06.837605Z",
     "iopub.status.busy": "2021-11-15T16:34:06.836536Z",
     "iopub.status.idle": "2021-11-15T16:34:06.847836Z",
     "shell.execute_reply": "2021-11-15T16:34:06.848387Z",
     "shell.execute_reply.started": "2021-11-15T16:25:55.492474Z"
    },
    "papermill": {
     "duration": 0.052846,
     "end_time": "2021-11-15T16:34:06.848593",
     "exception": false,
     "start_time": "2021-11-15T16:34:06.795747",
     "status": "completed"
    },
    "tags": []
   },
   "outputs": [],
   "source": [
    "##################################################################\n",
    "##Define all configs and params\n",
    "##################################################################\n",
    "class config_desc():\n",
    "    DESCRIPTTION = [{\"PATH\": \"Path to the input data files\"}, \n",
    "                   {\"SEED\": \"For reproducability\"}]\n",
    "\n",
    "class config():\n",
    "    SEED = 13\n",
    "    PATH = \"/kaggle/input/Foml-2021/\"\n",
    "    TRAIN = PATH + \"train.csv\"\n",
    "    TEST = PATH + \"test.csv\"\n",
    "\n",
    "\n",
    "##################################################################\n",
    "##Seed to ensure reproducability of results\n",
    "##################################################################\n",
    "def seed_everything(seed):\n",
    "    random.seed(seed)\n",
    "    np.random.seed(seed)\n",
    "    os.environ['PYTHONHASHSEED'] = str(seed)\n",
    "    torch.manual_seed(seed)\n",
    "    torch.cuda.manual_seed(seed)\n",
    "    torch.backends.cudnn.deterministic = True\n",
    "    \n",
    "seed_everything(config.SEED)\n",
    "process = psutil.Process(os.getpid())"
   ]
  },
  {
   "cell_type": "code",
   "execution_count": 3,
   "id": "09ea35f4",
   "metadata": {
    "execution": {
     "iopub.execute_input": "2021-11-15T16:34:06.929183Z",
     "iopub.status.busy": "2021-11-15T16:34:06.928129Z",
     "iopub.status.idle": "2021-11-15T16:34:06.938208Z",
     "shell.execute_reply": "2021-11-15T16:34:06.938984Z",
     "shell.execute_reply.started": "2021-11-15T16:25:55.514265Z"
    },
    "papermill": {
     "duration": 0.052016,
     "end_time": "2021-11-15T16:34:06.939219",
     "exception": false,
     "start_time": "2021-11-15T16:34:06.887203",
     "status": "completed"
    },
    "tags": []
   },
   "outputs": [
    {
     "name": "stdout",
     "output_type": "stream",
     "text": [
      "This code was executed succesfully on Python 3.7.10. Current version: 3.7.10 | packaged by conda-forge | (default, Sep 13 2021, 19:43:44) \n",
      "[GCC 9.4.0] \n",
      "\n",
      "Version of Scikit used: 0.23.2. Current version: 0.23.2\n",
      "Version of Numpy used: 1.19.5. Current version: 1.19.5 \n",
      "\n",
      "Other Pre-requisites to run the program - Update the config.PATH var to reflect actual file path\n",
      "\n",
      "CONFIG DESCRIPTION:\n",
      "{'PATH': 'Path to the input data files'}\n",
      "{'SEED': 'For reproducability'}\n",
      "\n",
      "CURRENT CONFIG:\n",
      " [ 'SEED': 13\n",
      "  'PATH': '/kaggle/input/Foml-2021/'\n",
      "  'TRAIN': '/kaggle/input/Foml-2021/train.csv'\n",
      "  'TEST': '/kaggle/input/Foml-2021/test.csv']\n"
     ]
    }
   ],
   "source": [
    "print('This code was executed succesfully on Python 3.7.10. Current version:', sys.version, \"\\n\")\n",
    "print('Version of Scikit used: 0.23.2. Current version:', sklearn.__version__)\n",
    "print('Version of Numpy used: 1.19.5. Current version:', np.__version__, \"\\n\")\n",
    "print(\"Other Pre-requisites to run the program - Update the config.PATH var to reflect actual file path\\n\")\n",
    "print(\"CONFIG DESCRIPTION:\")\n",
    "[print(config_desc.DESCRIPTTION[i]) for i in range(len(config_desc.DESCRIPTTION))]    \n",
    "print(\"\\nCURRENT CONFIG:\\n\", \"\\n\".join(str(str(vars(config)).split(\",\")[1:-3]).replace('\"', '').split(\",\")))"
   ]
  },
  {
   "cell_type": "code",
   "execution_count": 4,
   "id": "4cc07900",
   "metadata": {
    "execution": {
     "iopub.execute_input": "2021-11-15T16:34:07.025141Z",
     "iopub.status.busy": "2021-11-15T16:34:07.024345Z",
     "iopub.status.idle": "2021-11-15T16:34:09.124515Z",
     "shell.execute_reply": "2021-11-15T16:34:09.125162Z",
     "shell.execute_reply.started": "2021-11-15T16:25:55.528688Z"
    },
    "papermill": {
     "duration": 2.145225,
     "end_time": "2021-11-15T16:34:09.125352",
     "exception": false,
     "start_time": "2021-11-15T16:34:06.980127",
     "status": "completed"
    },
    "tags": []
   },
   "outputs": [
    {
     "name": "stderr",
     "output_type": "stream",
     "text": [
      "/opt/conda/lib/python3.7/site-packages/ipykernel_launcher.py:1: DtypeWarning: Columns (2) have mixed types.Specify dtype option on import or set low_memory=False.\n",
      "  \"\"\"Entry point for launching an IPython kernel.\n"
     ]
    }
   ],
   "source": [
    "train, test = [pd.read_csv(file) for file in [config.TRAIN, config.TEST]]"
   ]
  },
  {
   "cell_type": "markdown",
   "id": "fa6f8879",
   "metadata": {
    "papermill": {
     "duration": 0.039723,
     "end_time": "2021-11-15T16:34:09.204476",
     "exception": false,
     "start_time": "2021-11-15T16:34:09.164753",
     "status": "completed"
    },
    "tags": []
   },
   "source": [
    "We see from the warning that the columns have mixed data types in them. Hopefully nothing has been corrupted during loading. We will take care of this during NP conversion"
   ]
  },
  {
   "cell_type": "code",
   "execution_count": 5,
   "id": "0d1a443e",
   "metadata": {
    "execution": {
     "iopub.execute_input": "2021-11-15T16:34:09.480653Z",
     "iopub.status.busy": "2021-11-15T16:34:09.290428Z",
     "iopub.status.idle": "2021-11-15T16:34:09.506012Z",
     "shell.execute_reply": "2021-11-15T16:34:09.506594Z",
     "shell.execute_reply.started": "2021-11-15T16:25:56.886268Z"
    },
    "papermill": {
     "duration": 0.263374,
     "end_time": "2021-11-15T16:34:09.506779",
     "exception": false,
     "start_time": "2021-11-15T16:34:09.243405",
     "status": "completed"
    },
    "tags": []
   },
   "outputs": [
    {
     "name": "stdout",
     "output_type": "stream",
     "text": [
      "<class 'pandas.core.frame.DataFrame'>\n",
      "RangeIndex: 51490 entries, 0 to 51489\n",
      "Data columns (total 42 columns):\n",
      " #   Column                          Non-Null Count  Dtype  \n",
      "---  ------                          --------------  -----  \n",
      " 0   Report Number                   51490 non-null  object \n",
      " 1   Local Case Number               45037 non-null  object \n",
      " 2   Agency Name                     51490 non-null  object \n",
      " 3   ACRS Report Type                51490 non-null  object \n",
      " 4   Crash Date/Time                 51490 non-null  object \n",
      " 5   Route Type                      46522 non-null  object \n",
      " 6   Road Name                       46988 non-null  object \n",
      " 7   Cross-Street Type               46471 non-null  object \n",
      " 8   Cross-Street Name               46968 non-null  object \n",
      " 9   Off-Road Description            6950 non-null   object \n",
      " 10  Municipality                    7567 non-null   object \n",
      " 11  Related Non-Motorist            3648 non-null   object \n",
      " 12  Collision Type                  51191 non-null  object \n",
      " 13  Weather                         47461 non-null  object \n",
      " 14  Surface Condition               45611 non-null  object \n",
      " 15  Light                           50786 non-null  object \n",
      " 16  Traffic Control                 43716 non-null  object \n",
      " 17  Driver Substance Abuse          42395 non-null  object \n",
      " 18  Non-Motorist Substance Abuse    3384 non-null   object \n",
      " 19  Person ID                       51490 non-null  object \n",
      " 20  Injury Severity                 51490 non-null  object \n",
      " 21  Circumstance                    11752 non-null  object \n",
      " 22  Drivers License State           48962 non-null  object \n",
      " 23  Vehicle ID                      51490 non-null  object \n",
      " 24  Vehicle Damage Extent           51093 non-null  object \n",
      " 25  Vehicle First Impact Location   51268 non-null  object \n",
      " 26  Vehicle Second Impact Location  51256 non-null  object \n",
      " 27  Vehicle Body Type               50705 non-null  object \n",
      " 28  Vehicle Movement                51292 non-null  object \n",
      " 29  Vehicle Continuing Dir          50361 non-null  object \n",
      " 30  Vehicle Going Dir               50377 non-null  object \n",
      " 31  Speed Limit                     51490 non-null  int64  \n",
      " 32  Driverless Vehicle              51490 non-null  object \n",
      " 33  Parked Vehicle                  51490 non-null  object \n",
      " 34  Vehicle Year                    51490 non-null  int64  \n",
      " 35  Vehicle Make                    51482 non-null  object \n",
      " 36  Vehicle Model                   51471 non-null  object \n",
      " 37  Equipment Problems              40824 non-null  object \n",
      " 38  Latitude                        51490 non-null  float64\n",
      " 39  Longitude                       51490 non-null  float64\n",
      " 40  Location                        51490 non-null  object \n",
      " 41  Fault                           51490 non-null  int64  \n",
      "dtypes: float64(2), int64(3), object(37)\n",
      "memory usage: 16.5+ MB\n"
     ]
    }
   ],
   "source": [
    "train.info()"
   ]
  },
  {
   "cell_type": "code",
   "execution_count": 6,
   "id": "cf4cfde4",
   "metadata": {
    "execution": {
     "iopub.execute_input": "2021-11-15T16:34:09.590004Z",
     "iopub.status.busy": "2021-11-15T16:34:09.589232Z",
     "iopub.status.idle": "2021-11-15T16:34:09.622142Z",
     "shell.execute_reply": "2021-11-15T16:34:09.622701Z",
     "shell.execute_reply.started": "2021-11-15T16:25:57.114470Z"
    },
    "papermill": {
     "duration": 0.076384,
     "end_time": "2021-11-15T16:34:09.622885",
     "exception": false,
     "start_time": "2021-11-15T16:34:09.546501",
     "status": "completed"
    },
    "tags": []
   },
   "outputs": [
    {
     "data": {
      "text/html": [
       "<div>\n",
       "<style scoped>\n",
       "    .dataframe tbody tr th:only-of-type {\n",
       "        vertical-align: middle;\n",
       "    }\n",
       "\n",
       "    .dataframe tbody tr th {\n",
       "        vertical-align: top;\n",
       "    }\n",
       "\n",
       "    .dataframe thead th {\n",
       "        text-align: right;\n",
       "    }\n",
       "</style>\n",
       "<table border=\"1\" class=\"dataframe\">\n",
       "  <thead>\n",
       "    <tr style=\"text-align: right;\">\n",
       "      <th></th>\n",
       "      <th>Report Number</th>\n",
       "      <th>Local Case Number</th>\n",
       "      <th>Agency Name</th>\n",
       "      <th>ACRS Report Type</th>\n",
       "      <th>Crash Date/Time</th>\n",
       "      <th>Route Type</th>\n",
       "      <th>Road Name</th>\n",
       "      <th>Cross-Street Type</th>\n",
       "      <th>Cross-Street Name</th>\n",
       "      <th>Off-Road Description</th>\n",
       "      <th>...</th>\n",
       "      <th>Driverless Vehicle</th>\n",
       "      <th>Parked Vehicle</th>\n",
       "      <th>Vehicle Year</th>\n",
       "      <th>Vehicle Make</th>\n",
       "      <th>Vehicle Model</th>\n",
       "      <th>Equipment Problems</th>\n",
       "      <th>Latitude</th>\n",
       "      <th>Longitude</th>\n",
       "      <th>Location</th>\n",
       "      <th>Fault</th>\n",
       "    </tr>\n",
       "  </thead>\n",
       "  <tbody>\n",
       "    <tr>\n",
       "      <th>0</th>\n",
       "      <td>MP060D</td>\n",
       "      <td>10196</td>\n",
       "      <td>Montgomery County Police</td>\n",
       "      <td>Injury Crash</td>\n",
       "      <td>06/05/2017 04:27:00 PM</td>\n",
       "      <td>Maryland (State)</td>\n",
       "      <td>OLD HUNDRED RD</td>\n",
       "      <td>County</td>\n",
       "      <td>THURSTON RD</td>\n",
       "      <td>12305 SHOREFIELD RD</td>\n",
       "      <td>...</td>\n",
       "      <td>No</td>\n",
       "      <td>No</td>\n",
       "      <td>2005</td>\n",
       "      <td>GMC</td>\n",
       "      <td>TRUCK</td>\n",
       "      <td>NO MISUSE</td>\n",
       "      <td>39.263378</td>\n",
       "      <td>-77.344203</td>\n",
       "      <td>3.6383 7.4233</td>\n",
       "      <td>1</td>\n",
       "    </tr>\n",
       "    <tr>\n",
       "      <th>1</th>\n",
       "      <td>MP000X</td>\n",
       "      <td>20080</td>\n",
       "      <td>Montgomery County Police</td>\n",
       "      <td>Injury Crash</td>\n",
       "      <td>02/22/2020 10:00:00 AM</td>\n",
       "      <td>County</td>\n",
       "      <td>JANET RD</td>\n",
       "      <td>County</td>\n",
       "      <td>FLACK ST</td>\n",
       "      <td>NaN</td>\n",
       "      <td>...</td>\n",
       "      <td>No</td>\n",
       "      <td>Yes</td>\n",
       "      <td>2018</td>\n",
       "      <td>FORD</td>\n",
       "      <td>FIESTA</td>\n",
       "      <td>NO MISUSE</td>\n",
       "      <td>39.068913</td>\n",
       "      <td>-77.063227</td>\n",
       "      <td>3.0862 7.324</td>\n",
       "      <td>1</td>\n",
       "    </tr>\n",
       "    <tr>\n",
       "      <th>2</th>\n",
       "      <td>MP070N</td>\n",
       "      <td>10103</td>\n",
       "      <td>Montgomery County Police</td>\n",
       "      <td>Property Damage Crash</td>\n",
       "      <td>06/11/2017 08:21:00 AM</td>\n",
       "      <td>Maryland (State)</td>\n",
       "      <td>COLESVILLE RD</td>\n",
       "      <td>Maryland (State)</td>\n",
       "      <td>STRUC #15082</td>\n",
       "      <td>NaN</td>\n",
       "      <td>...</td>\n",
       "      <td>No</td>\n",
       "      <td>No</td>\n",
       "      <td>2016</td>\n",
       "      <td>NEW FLYER</td>\n",
       "      <td>TBU</td>\n",
       "      <td>NO MISUSE</td>\n",
       "      <td>38.993578</td>\n",
       "      <td>-77.032718</td>\n",
       "      <td>3.9583 7.3783</td>\n",
       "      <td>0</td>\n",
       "    </tr>\n",
       "  </tbody>\n",
       "</table>\n",
       "<p>3 rows × 42 columns</p>\n",
       "</div>"
      ],
      "text/plain": [
       "  Report Number Local Case Number               Agency Name  \\\n",
       "0        MP060D             10196  Montgomery County Police   \n",
       "1        MP000X             20080  Montgomery County Police   \n",
       "2        MP070N             10103  Montgomery County Police   \n",
       "\n",
       "        ACRS Report Type         Crash Date/Time        Route Type  \\\n",
       "0           Injury Crash  06/05/2017 04:27:00 PM  Maryland (State)   \n",
       "1           Injury Crash  02/22/2020 10:00:00 AM            County   \n",
       "2  Property Damage Crash  06/11/2017 08:21:00 AM  Maryland (State)   \n",
       "\n",
       "        Road Name Cross-Street Type Cross-Street Name Off-Road Description  \\\n",
       "0  OLD HUNDRED RD            County       THURSTON RD  12305 SHOREFIELD RD   \n",
       "1        JANET RD            County          FLACK ST                  NaN   \n",
       "2   COLESVILLE RD  Maryland (State)      STRUC #15082                  NaN   \n",
       "\n",
       "   ... Driverless Vehicle Parked Vehicle Vehicle Year Vehicle Make  \\\n",
       "0  ...                 No             No         2005          GMC   \n",
       "1  ...                 No            Yes         2018         FORD   \n",
       "2  ...                 No             No         2016    NEW FLYER   \n",
       "\n",
       "  Vehicle Model Equipment Problems   Latitude  Longitude       Location Fault  \n",
       "0         TRUCK          NO MISUSE  39.263378 -77.344203  3.6383 7.4233     1  \n",
       "1        FIESTA          NO MISUSE  39.068913 -77.063227   3.0862 7.324     1  \n",
       "2           TBU          NO MISUSE  38.993578 -77.032718  3.9583 7.3783     0  \n",
       "\n",
       "[3 rows x 42 columns]"
      ]
     },
     "execution_count": 6,
     "metadata": {},
     "output_type": "execute_result"
    }
   ],
   "source": [
    "train.head(3)"
   ]
  },
  {
   "cell_type": "markdown",
   "id": "1d98e913",
   "metadata": {
    "papermill": {
     "duration": 0.038945,
     "end_time": "2021-11-15T16:34:09.700781",
     "exception": false,
     "start_time": "2021-11-15T16:34:09.661836",
     "status": "completed"
    },
    "tags": []
   },
   "source": [
    "We see some NaNs in the first couple of rows itself"
   ]
  },
  {
   "cell_type": "code",
   "execution_count": 7,
   "id": "468d6583",
   "metadata": {
    "execution": {
     "iopub.execute_input": "2021-11-15T16:34:09.782961Z",
     "iopub.status.busy": "2021-11-15T16:34:09.782206Z",
     "iopub.status.idle": "2021-11-15T16:34:09.788101Z",
     "shell.execute_reply": "2021-11-15T16:34:09.788695Z",
     "shell.execute_reply.started": "2021-11-15T16:25:57.142620Z"
    },
    "papermill": {
     "duration": 0.048409,
     "end_time": "2021-11-15T16:34:09.788925",
     "exception": false,
     "start_time": "2021-11-15T16:34:09.740516",
     "status": "completed"
    },
    "tags": []
   },
   "outputs": [
    {
     "data": {
      "text/plain": [
       "Index(['Report Number', 'Local Case Number', 'Agency Name', 'ACRS Report Type',\n",
       "       'Crash Date/Time', 'Route Type', 'Road Name', 'Cross-Street Type',\n",
       "       'Cross-Street Name', 'Off-Road Description', 'Municipality',\n",
       "       'Related Non-Motorist', 'Collision Type', 'Weather',\n",
       "       'Surface Condition', 'Light', 'Traffic Control',\n",
       "       'Driver Substance Abuse', 'Non-Motorist Substance Abuse', 'Person ID',\n",
       "       'Injury Severity', 'Circumstance', 'Drivers License State',\n",
       "       'Vehicle ID', 'Vehicle Damage Extent', 'Vehicle First Impact Location',\n",
       "       'Vehicle Second Impact Location', 'Vehicle Body Type',\n",
       "       'Vehicle Movement', 'Vehicle Continuing Dir', 'Vehicle Going Dir',\n",
       "       'Speed Limit', 'Driverless Vehicle', 'Parked Vehicle', 'Vehicle Year',\n",
       "       'Vehicle Make', 'Vehicle Model', 'Equipment Problems', 'Latitude',\n",
       "       'Longitude', 'Location', 'Fault'],\n",
       "      dtype='object')"
      ]
     },
     "execution_count": 7,
     "metadata": {},
     "output_type": "execute_result"
    }
   ],
   "source": [
    "train.columns"
   ]
  },
  {
   "cell_type": "markdown",
   "id": "f191eb5c",
   "metadata": {
    "papermill": {
     "duration": 0.038796,
     "end_time": "2021-11-15T16:34:09.868215",
     "exception": false,
     "start_time": "2021-11-15T16:34:09.829419",
     "status": "completed"
    },
    "tags": []
   },
   "source": [
    "The \"fault\" col seems to be the label. \n",
    "\n",
    "At first glance, there seems to be lots of features which are very relevant to determining the label. E.g - Equipment Problems, Vehicle Year, Weather, Surface Condition, Light, Traffic Control, Driver Substance Abuse etc. There seem to be some like report number and case number which should ideally not have any connection with the label"
   ]
  },
  {
   "cell_type": "code",
   "execution_count": 8,
   "id": "4985379b",
   "metadata": {
    "execution": {
     "iopub.execute_input": "2021-11-15T16:34:10.014664Z",
     "iopub.status.busy": "2021-11-15T16:34:10.013944Z",
     "iopub.status.idle": "2021-11-15T16:34:10.018392Z",
     "shell.execute_reply": "2021-11-15T16:34:10.018990Z",
     "shell.execute_reply.started": "2021-11-15T16:25:57.155978Z"
    },
    "papermill": {
     "duration": 0.049939,
     "end_time": "2021-11-15T16:34:10.019184",
     "exception": false,
     "start_time": "2021-11-15T16:34:09.969245",
     "status": "completed"
    },
    "tags": []
   },
   "outputs": [
    {
     "name": "stdout",
     "output_type": "stream",
     "text": [
      "Label distribution in train 0.55\n"
     ]
    }
   ],
   "source": [
    "print (\"Label distribution in train\", round(train.Fault.sum()/len(train),2))"
   ]
  },
  {
   "cell_type": "markdown",
   "id": "3ae7a265",
   "metadata": {
    "papermill": {
     "duration": 0.039533,
     "end_time": "2021-11-15T16:34:10.098929",
     "exception": false,
     "start_time": "2021-11-15T16:34:10.059396",
     "status": "completed"
    },
    "tags": []
   },
   "source": [
    "Labels slightly skewed towards faulty drivers. This is true for Public LB also as my first entry was a dummy all 0 CSV file which gave around 45% on the public LB"
   ]
  },
  {
   "cell_type": "code",
   "execution_count": 9,
   "id": "be5e7aa1",
   "metadata": {
    "execution": {
     "iopub.execute_input": "2021-11-15T16:34:10.183691Z",
     "iopub.status.busy": "2021-11-15T16:34:10.182969Z",
     "iopub.status.idle": "2021-11-15T16:34:10.378295Z",
     "shell.execute_reply": "2021-11-15T16:34:10.377511Z",
     "shell.execute_reply.started": "2021-11-15T16:25:57.167331Z"
    },
    "papermill": {
     "duration": 0.239561,
     "end_time": "2021-11-15T16:34:10.378459",
     "exception": false,
     "start_time": "2021-11-15T16:34:10.138898",
     "status": "completed"
    },
    "tags": []
   },
   "outputs": [
    {
     "name": "stdout",
     "output_type": "stream",
     "text": [
      "Columns having null\n",
      " Index(['Local Case Number', 'Route Type', 'Road Name', 'Cross-Street Type',\n",
      "       'Cross-Street Name', 'Off-Road Description', 'Municipality',\n",
      "       'Related Non-Motorist', 'Collision Type', 'Weather',\n",
      "       'Surface Condition', 'Light', 'Traffic Control',\n",
      "       'Driver Substance Abuse', 'Non-Motorist Substance Abuse',\n",
      "       'Circumstance', 'Drivers License State', 'Vehicle Damage Extent',\n",
      "       'Vehicle First Impact Location', 'Vehicle Second Impact Location',\n",
      "       'Vehicle Body Type', 'Vehicle Movement', 'Vehicle Continuing Dir',\n",
      "       'Vehicle Going Dir', 'Vehicle Make', 'Vehicle Model',\n",
      "       'Equipment Problems'],\n",
      "      dtype='object')\n"
     ]
    }
   ],
   "source": [
    "missing = train.columns[train.isnull().any()]\n",
    "print(\"Columns having null\\n\", missing)"
   ]
  },
  {
   "cell_type": "markdown",
   "id": "e389392e",
   "metadata": {
    "papermill": {
     "duration": 0.040403,
     "end_time": "2021-11-15T16:34:10.459724",
     "exception": false,
     "start_time": "2021-11-15T16:34:10.419321",
     "status": "completed"
    },
    "tags": []
   },
   "source": [
    "We will have to impute these values else the models will not process them or use their in-built logic which might not necessarily the best. Rather than letting the model handle everything, let us try to analyze and decide the course of action for missing cols ourselves.\n",
    "\n",
    "This is going to be sizable work. This will also be our EDA and we may get to know more about the cols"
   ]
  },
  {
   "cell_type": "code",
   "execution_count": 10,
   "id": "8131d0ac",
   "metadata": {
    "execution": {
     "iopub.execute_input": "2021-11-15T16:34:10.557361Z",
     "iopub.status.busy": "2021-11-15T16:34:10.555743Z",
     "iopub.status.idle": "2021-11-15T16:34:11.864784Z",
     "shell.execute_reply": "2021-11-15T16:34:11.865305Z",
     "shell.execute_reply.started": "2021-11-15T16:25:57.378625Z"
    },
    "papermill": {
     "duration": 1.364864,
     "end_time": "2021-11-15T16:34:11.865499",
     "exception": false,
     "start_time": "2021-11-15T16:34:10.500635",
     "status": "completed"
    },
    "tags": []
   },
   "outputs": [
    {
     "name": "stdout",
     "output_type": "stream",
     "text": [
      "\n",
      "COL NAME: Local Case Number ---- TYPE OF 1st NON NULL: <class 'str'> ---- MISSING CNT: 6453\n",
      "MODE: 1005\n",
      "NUM OF UNIQUE VALUES 1430 SAMPLE: ['10196' '20080' '10103' '10208']\n",
      "\n",
      "COL NAME: Route Type ---- TYPE OF 1st NON NULL: <class 'str'> ---- MISSING CNT: 4968\n",
      "MODE: Maryland (State)\n",
      "NUM OF UNIQUE VALUES 11 SAMPLE: ['Maryland (State)' 'County' nan 'US (State)']\n",
      "\n",
      "COL NAME: Road Name ---- TYPE OF 1st NON NULL: <class 'str'> ---- MISSING CNT: 4502\n",
      "MODE: GEORGIA AVE\n",
      "NUM OF UNIQUE VALUES 2227 SAMPLE: ['OLD HUNDRED RD' 'JANET RD' 'COLESVILLE RD' 'PARKLAND DR']\n",
      "\n",
      "COL NAME: Cross-Street Type ---- TYPE OF 1st NON NULL: <class 'str'> ---- MISSING CNT: 5019\n",
      "MODE: County\n",
      "NUM OF UNIQUE VALUES 11 SAMPLE: ['County' 'Maryland (State)' 'Municipality' 'Other Public Roadway']\n",
      "\n",
      "COL NAME: Cross-Street Name ---- TYPE OF 1st NON NULL: <class 'str'> ---- MISSING CNT: 4522\n",
      "MODE: GEORGIA AVE\n",
      "NUM OF UNIQUE VALUES 4526 SAMPLE: ['THURSTON RD' 'FLACK ST' 'STRUC #15082' 'FRANKFORT DR']\n",
      "\n",
      "COL NAME: Off-Road Description ---- TYPE OF 1st NON NULL: <class 'str'> ---- MISSING CNT: 44540\n",
      "MODE: PARKING LOT\n",
      "NUM OF UNIQUE VALUES 4018 SAMPLE: ['12305 SHOREFIELD RD' nan\n",
      " 'PARKING LOT OF 201 RUSSELL AVE \\n(BACK PARKING AREA)'\n",
      " '701 UNIVERSITY BLVD W DRIVEWAY']\n",
      "\n",
      "COL NAME: Municipality ---- TYPE OF 1st NON NULL: <class 'str'> ---- MISSING CNT: 43923\n",
      "MODE: ROCKVILLE\n",
      "NUM OF UNIQUE VALUES 21 SAMPLE: [nan 'ROCKVILLE' 'MATINS ADDITION' 'TAKOMA PARK']\n",
      "\n",
      "COL NAME: Related Non-Motorist ---- TYPE OF 1st NON NULL: <class 'str'> ---- MISSING CNT: 47842\n",
      "MODE: PEDESTRIAN\n",
      "NUM OF UNIQUE VALUES 12 SAMPLE: [nan 'PEDESTRIAN' 'MACHINE OPERATOR/RIDER' 'OTHER']\n",
      "\n",
      "COL NAME: Collision Type ---- TYPE OF 1st NON NULL: <class 'str'> ---- MISSING CNT: 299\n",
      "MODE: SAME DIR REAR END\n",
      "NUM OF UNIQUE VALUES 19 SAMPLE: ['SINGLE VEHICLE' 'STRAIGHT MOVEMENT ANGLE' 'SAME DIRECTION RIGHT TURN'\n",
      " 'OTHER']\n",
      "\n",
      "COL NAME: Weather ---- TYPE OF 1st NON NULL: <class 'str'> ---- MISSING CNT: 4029\n",
      "MODE: CLEAR\n",
      "NUM OF UNIQUE VALUES 13 SAMPLE: ['CLEAR' 'CLOUDY' 'OTHER' nan]\n",
      "\n",
      "COL NAME: Surface Condition ---- TYPE OF 1st NON NULL: <class 'str'> ---- MISSING CNT: 5879\n",
      "MODE: DRY\n",
      "NUM OF UNIQUE VALUES 12 SAMPLE: ['WET' 'DRY' nan 'MUD, DIRT, GRAVEL']\n",
      "\n",
      "COL NAME: Light ---- TYPE OF 1st NON NULL: <class 'str'> ---- MISSING CNT: 704\n",
      "MODE: DAYLIGHT\n",
      "NUM OF UNIQUE VALUES 9 SAMPLE: ['DAYLIGHT' 'UNKNOWN' 'DARK LIGHTS ON' 'DARK -- UNKNOWN LIGHTING']\n",
      "\n",
      "COL NAME: Traffic Control ---- TYPE OF 1st NON NULL: <class 'str'> ---- MISSING CNT: 7774\n",
      "MODE: NO CONTROLS\n",
      "NUM OF UNIQUE VALUES 12 SAMPLE: ['NO CONTROLS' 'STOP SIGN' 'OTHER' 'TRAFFIC SIGNAL']\n",
      "\n",
      "COL NAME: Driver Substance Abuse ---- TYPE OF 1st NON NULL: <class 'str'> ---- MISSING CNT: 9095\n",
      "MODE: NONE DETECTED\n",
      "NUM OF UNIQUE VALUES 12 SAMPLE: ['NONE DETECTED' nan 'ALCOHOL CONTRIBUTED' 'UNKNOWN']\n",
      "\n",
      "COL NAME: Non-Motorist Substance Abuse ---- TYPE OF 1st NON NULL: <class 'str'> ---- MISSING CNT: 48106\n",
      "MODE: NONE DETECTED\n",
      "NUM OF UNIQUE VALUES 10 SAMPLE: [nan 'MEDICATION PRESENT' 'UNKNOWN' 'ALCOHOL PRESENT']\n",
      "\n",
      "COL NAME: Circumstance ---- TYPE OF 1st NON NULL: <class 'str'> ---- MISSING CNT: 39738\n",
      "MODE: RAIN, SNOW, WET\n",
      "NUM OF UNIQUE VALUES 140 SAMPLE: ['N/A, WET'\n",
      " 'BACKUP DUE TO REGULAR CONGESTION, SLEET, HAIL, FREEZ. RAIN, WET' nan\n",
      " 'RAIN, SNOW, WET']\n",
      "\n",
      "COL NAME: Drivers License State ---- TYPE OF 1st NON NULL: <class 'str'> ---- MISSING CNT: 2528\n",
      "MODE: MD\n",
      "NUM OF UNIQUE VALUES 66 SAMPLE: ['MD' 'DC' 'HI' 'FL']\n",
      "\n",
      "COL NAME: Vehicle Damage Extent ---- TYPE OF 1st NON NULL: <class 'str'> ---- MISSING CNT: 397\n",
      "MODE: DISABLING\n",
      "NUM OF UNIQUE VALUES 8 SAMPLE: ['DESTROYED' 'DISABLING' 'SUPERFICIAL' 'FUNCTIONAL']\n",
      "\n",
      "COL NAME: Vehicle First Impact Location ---- TYPE OF 1st NON NULL: <class 'str'> ---- MISSING CNT: 222\n",
      "MODE: TWELVE OCLOCK\n",
      "NUM OF UNIQUE VALUES 17 SAMPLE: ['TWELVE OCLOCK' 'SIX OCLOCK' 'TEN OCLOCK' 'FOUR OCLOCK']\n",
      "\n",
      "COL NAME: Vehicle Second Impact Location ---- TYPE OF 1st NON NULL: <class 'str'> ---- MISSING CNT: 234\n",
      "MODE: TWELVE OCLOCK\n",
      "NUM OF UNIQUE VALUES 17 SAMPLE: ['TWELVE OCLOCK' 'SIX OCLOCK' 'TWO OCLOCK' 'TEN OCLOCK']\n",
      "\n",
      "COL NAME: Vehicle Body Type ---- TYPE OF 1st NON NULL: <class 'str'> ---- MISSING CNT: 785\n",
      "MODE: PASSENGER CAR\n",
      "NUM OF UNIQUE VALUES 31 SAMPLE: ['PICKUP TRUCK' 'PASSENGER CAR' 'TRANSIT BUS' '(SPORT) UTILITY VEHICLE']\n",
      "\n",
      "COL NAME: Vehicle Movement ---- TYPE OF 1st NON NULL: <class 'str'> ---- MISSING CNT: 198\n",
      "MODE: MOVING CONSTANT SPEED\n",
      "NUM OF UNIQUE VALUES 23 SAMPLE: ['MOVING CONSTANT SPEED' 'ACCELERATING' 'PARKING' 'SLOWING OR STOPPING']\n",
      "\n",
      "COL NAME: Vehicle Continuing Dir ---- TYPE OF 1st NON NULL: <class 'str'> ---- MISSING CNT: 1129\n",
      "MODE: North\n",
      "NUM OF UNIQUE VALUES 6 SAMPLE: ['South' 'West' 'North' 'East']\n",
      "\n",
      "COL NAME: Vehicle Going Dir ---- TYPE OF 1st NON NULL: <class 'str'> ---- MISSING CNT: 1113\n",
      "MODE: North\n",
      "NUM OF UNIQUE VALUES 6 SAMPLE: ['Unknown' 'South' 'West' 'North']\n",
      "\n",
      "COL NAME: Vehicle Make ---- TYPE OF 1st NON NULL: <class 'str'> ---- MISSING CNT: 8\n",
      "MODE: TOYOTA\n",
      "NUM OF UNIQUE VALUES 887 SAMPLE: ['GMC' 'FORD' 'NEW FLYER' 'CHEV']\n",
      "\n",
      "COL NAME: Vehicle Model ---- TYPE OF 1st NON NULL: <class 'str'> ---- MISSING CNT: 19\n",
      "MODE: 4S\n",
      "NUM OF UNIQUE VALUES 3129 SAMPLE: ['TRUCK' 'FIESTA' 'TBU' 'SUBURBAN']\n",
      "\n",
      "COL NAME: Equipment Problems ---- TYPE OF 1st NON NULL: <class 'str'> ---- MISSING CNT: 10666\n",
      "MODE: NO MISUSE\n",
      "NUM OF UNIQUE VALUES 9 SAMPLE: ['NO MISUSE' 'OTHER' 'UNKNOWN' nan]\n"
     ]
    }
   ],
   "source": [
    "for col in missing:\n",
    "    non_miss = train[train[col].notnull()][col]\n",
    "    print(\"\\nCOL NAME:\", col, \"-\"*4, \"TYPE OF 1st NON NULL:\", type(non_miss.values[0]),\"-\"*4,\"MISSING CNT:\", train[col].isnull().sum())\n",
    "    print(\"MODE:\", train[col].mode().values[0]) if isinstance(non_miss.values[0], str) \\\n",
    "                                                else print(\"MODE, MEAN:\", train[col].mode().values[0], non_miss.mean())\n",
    "    print(\"NUM OF UNIQUE VALUES\", len(train[col].unique()), \"SAMPLE:\", train[col].unique()[:4])\n",
    "    ##print(\"FIRST FOUR VALUES:\", [train[col][i] for i in range(4)])"
   ]
  },
  {
   "cell_type": "markdown",
   "id": "98773d3b",
   "metadata": {
    "papermill": {
     "duration": 0.043807,
     "end_time": "2021-11-15T16:34:11.951629",
     "exception": false,
     "start_time": "2021-11-15T16:34:11.907822",
     "status": "completed"
    },
    "tags": []
   },
   "source": [
    "We create a dict which will tell us the action needed for each col. This will be useful later when processing test. Note that we will NOT blindly replace all missing cols by mode or mean but take specific action on a per col basis"
   ]
  },
  {
   "cell_type": "code",
   "execution_count": 11,
   "id": "33e0f0b1",
   "metadata": {
    "execution": {
     "iopub.execute_input": "2021-11-15T16:34:12.051451Z",
     "iopub.status.busy": "2021-11-15T16:34:12.050695Z",
     "iopub.status.idle": "2021-11-15T16:34:12.053007Z",
     "shell.execute_reply": "2021-11-15T16:34:12.052364Z",
     "shell.execute_reply.started": "2021-11-15T16:25:58.663775Z"
    },
    "papermill": {
     "duration": 0.058347,
     "end_time": "2021-11-15T16:34:12.053153",
     "exception": false,
     "start_time": "2021-11-15T16:34:11.994806",
     "status": "completed"
    },
    "tags": []
   },
   "outputs": [],
   "source": [
    "col_imputed_val = []\n",
    "\n",
    "##Missing Equip Prob col will be tagged as UNKNOWN\n",
    "##Note that we have used UNKNOWN here instead of the mode which is \"NO MISUSE\"\n",
    "col_imputed_val.append((\"Equipment Problems\", \"UNKNOWN\"))\n",
    "\n",
    "col_imputed_val.append((\"Vehicle Model\", \"MODE\"))\n",
    "col_imputed_val.append((\"Vehicle Make\", \"MODE\"))\n",
    "\n",
    "##Missing Vehicle Going Dir will be tagged to Unknown\n",
    "col_imputed_val.append((\"Vehicle Going Dir\", \"Unknown\"))\n",
    "col_imputed_val.append((\"Vehicle Continuing Dir\", \"Unknown\"))\n",
    "##Note that we will later combine the above 2 as they seem related\n",
    "\n",
    "col_imputed_val.append((\"Vehicle Movement\", \"MODE\"))\n",
    "col_imputed_val.append((\"Vehicle Body Type\", \"MODE\"))\n",
    "\n",
    "col_imputed_val.append((\"Vehicle Second Impact Location\", \"UNKNOWN\"))\n",
    "col_imputed_val.append((\"Vehicle First Impact Location\", \"UNKNOWN\"))\n",
    "\n",
    "col_imputed_val.append((\"Vehicle Damage Extent\", \"MODE\"))\n",
    "col_imputed_val.append((\"Drivers License State\", \"MODE\"))\n",
    "##Above 2 dont seem to be very good features and may just create noise??\n",
    "\n",
    "##Circumstance. This is a VERY critical feature. Unfortunatelt 75% values missing\n",
    "##We cant use MODE here.  We use a new value \"UNKNOWN\"\n",
    "##We also need to simplify the catogeries in this feature somehow\n",
    "col_imputed_val.append((\"Circumstance\", \"UNKNOWN\"))\n",
    "\n",
    "##Non-Motorist Substance Abuse. More than 90% values missing but VERY critical\n",
    "col_imputed_val.append((\"Non-Motorist Substance Abuse\", \"UNKNOWN\"))\n",
    "\n",
    "col_imputed_val.append((\"Driver Substance Abuse\", \"UNKNOWN\"))\n",
    "col_imputed_val.append((\"Surface Condition\", \"UNKNOWN\"))\n",
    "col_imputed_val.append((\"Light\", \"UNKNOWN\"))\n",
    "col_imputed_val.append((\"Traffic Control\", \"UNKNOWN\"))\n",
    "\n",
    "##Municipality has 43923 missin values and is not critical. We will drop\n",
    "col_imputed_val.append((\"Municipality\", \"DROP\"))\n",
    "\n",
    "##Related Non-Motorist has 48K missin values but could be critical\n",
    "##usually if pedestrian or cyclist is hit the driver is at fault\n",
    "##We wont drop it. We cant assign mode also. We will imput with OTHER\n",
    "col_imputed_val.append((\"Related Non-Motorist\", \"OTHER\"))\n",
    "\n",
    "col_imputed_val.append((\"Collision Type\", \"MODE\"))\n",
    "col_imputed_val.append((\"Weather\", \"UNKNOWN\"))\n",
    "\n",
    "col_imputed_val.append((\"Off-Road Description\", \"MODE\"))\n",
    "col_imputed_val.append((\"Cross-Street Name\", \"MODE\"))\n",
    "col_imputed_val.append((\"Cross-Street Type\", \"MODE\"))\n",
    "col_imputed_val.append((\"Road Name\", \"MODE\"))\n",
    "col_imputed_val.append((\"Route Type\", \"MODE\"))\n",
    "##Note we can combine road name and street name\n",
    "\n",
    "##Local Case Number. Ideally this should be unique but looks like there\n",
    "##are only 1430 values for 50K data. We create a new value for missing\n",
    "col_imputed_val.append((\"Local Case Number\", \"123123123\"))"
   ]
  },
  {
   "cell_type": "code",
   "execution_count": 12,
   "id": "5d7c4c6a",
   "metadata": {
    "execution": {
     "iopub.execute_input": "2021-11-15T16:34:12.148087Z",
     "iopub.status.busy": "2021-11-15T16:34:12.141017Z",
     "iopub.status.idle": "2021-11-15T16:34:12.293418Z",
     "shell.execute_reply": "2021-11-15T16:34:12.292490Z",
     "shell.execute_reply.started": "2021-11-15T16:25:58.678427Z"
    },
    "papermill": {
     "duration": 0.197944,
     "end_time": "2021-11-15T16:34:12.293638",
     "exception": false,
     "start_time": "2021-11-15T16:34:12.095694",
     "status": "completed"
    },
    "tags": []
   },
   "outputs": [
    {
     "name": "stdout",
     "output_type": "stream",
     "text": [
      "\n",
      "COL NAME: Vehicle ID ---- TYPE OF 1st VALUE: <class 'str'> ----\n",
      "NUM OF UNIQUE VALUES 49160 SAMPLE: ['7C2FEC-727F4' '67644F-64EF8' '30F7A9-92C98' '0F0C58-8E98F']\n",
      "\n",
      "COL NAME: Crash Date/Time ---- TYPE OF 1st VALUE: <class 'str'> ----\n",
      "NUM OF UNIQUE VALUES 39573 SAMPLE: ['06/05/2017 04:27:00 PM' '02/22/2020 10:00:00 AM'\n",
      " '06/11/2017 08:21:00 AM' '05/10/2019 07:30:00 AM']\n",
      "\n",
      "COL NAME: ACRS Report Type ---- TYPE OF 1st VALUE: <class 'str'> ----\n",
      "NUM OF UNIQUE VALUES 3 SAMPLE: ['Injury Crash' 'Property Damage Crash' 'Fatal Crash']\n",
      "\n",
      "COL NAME: Speed Limit ---- TYPE OF 1st VALUE: <class 'str'> ----\n",
      "NUM OF UNIQUE VALUES 15 SAMPLE: [40 25 35  0]\n",
      "\n",
      "COL NAME: Agency Name ---- TYPE OF 1st VALUE: <class 'str'> ----\n",
      "NUM OF UNIQUE VALUES 10 SAMPLE: ['Montgomery County Police' 'Rockville Police Departme' 'MONTGOMERY'\n",
      " 'GAITHERSBURG']\n",
      "\n",
      "COL NAME: Report Number ---- TYPE OF 1st VALUE: <class 'str'> ----\n",
      "NUM OF UNIQUE VALUES 3256 SAMPLE: ['MP060D' 'MP000X' 'MP070N' 'MP130Y']\n",
      "\n",
      "COL NAME: Parked Vehicle ---- TYPE OF 1st VALUE: <class 'str'> ----\n",
      "NUM OF UNIQUE VALUES 2 SAMPLE: ['No' 'Yes']\n",
      "\n",
      "COL NAME: Latitude ---- TYPE OF 1st VALUE: <class 'str'> ----\n",
      "NUM OF UNIQUE VALUES 37080 SAMPLE: [39.26337833 39.06891333 38.99357833 39.08348   ]\n",
      "\n",
      "COL NAME: Driverless Vehicle ---- TYPE OF 1st VALUE: <class 'str'> ----\n",
      "NUM OF UNIQUE VALUES 2 SAMPLE: ['No' 'Unknown']\n",
      "\n",
      "COL NAME: Vehicle Year ---- TYPE OF 1st VALUE: <class 'str'> ----\n",
      "NUM OF UNIQUE VALUES 83 SAMPLE: [2005 2018 2016 2001]\n",
      "\n",
      "COL NAME: Location ---- TYPE OF 1st VALUE: <class 'str'> ----\n",
      "NUM OF UNIQUE VALUES 38953 SAMPLE: ['3.6383 7.4233' '3.0862 7.324' '3.9583 7.3783' '3.84,-70633']\n",
      "\n",
      "COL NAME: Injury Severity ---- TYPE OF 1st VALUE: <class 'str'> ----\n",
      "NUM OF UNIQUE VALUES 5 SAMPLE: ['SUSPECTED MINOR INJURY' 'NO APPARENT INJURY' 'POSSIBLE INJURY'\n",
      " 'SUSPECTED SERIOUS INJURY']\n",
      "\n",
      "COL NAME: Person ID ---- TYPE OF 1st VALUE: <class 'str'> ----\n",
      "NUM OF UNIQUE VALUES 49209 SAMPLE: ['466D8B-AC8C7' '4028E4-C5384' '889DBD-D57FF' '77155D-96AA7']\n",
      "\n",
      "COL NAME: Longitude ---- TYPE OF 1st VALUE: <class 'str'> ----\n",
      "NUM OF UNIQUE VALUES 37669 SAMPLE: [-77.34420333 -77.06322667 -77.03271833 -77.08693333]\n"
     ]
    }
   ],
   "source": [
    "##Let us inspect remaining columns\n",
    "for col in (set(train.columns)-(set(missing))) - set([\"Fault\"]):\n",
    "    print(\"\\nCOL NAME:\", col, \"-\"*4, \"TYPE OF 1st VALUE:\", type(non_miss.values[0]),\"-\"*4)\n",
    "    print(\"NUM OF UNIQUE VALUES\", len(train[col].unique()), \"SAMPLE:\", train[col].unique()[:4])\n",
    "    ##print(\"FIRST FOUR VALUES:\", [train[col][i] for i in range(4)])"
   ]
  },
  {
   "cell_type": "markdown",
   "id": "511b6485",
   "metadata": {
    "papermill": {
     "duration": 0.042523,
     "end_time": "2021-11-15T16:34:12.379633",
     "exception": false,
     "start_time": "2021-11-15T16:34:12.337110",
     "status": "completed"
    },
    "tags": []
   },
   "source": [
    "- We will round and combine latitude and longitude. \n",
    "- Crash Date/Time can be split into 2 features. We will remove the year and keep only the date and month. We will separate the hour and convert it into 24 hour format as a separate feature. \n",
    "- Vehicle Year - We will just convert it into age of the vehicle assuming 2021 is the current year\n",
    "- Vehicle ID and Person ID: We will just convert each of these features into number of past \"fault\" and number of \"non-fault\". Not sure what they are? I would have expected Vehicle ID to represent the same vehicle, but we see diff vehicles against same ID. Let us check it"
   ]
  },
  {
   "cell_type": "code",
   "execution_count": 13,
   "id": "9d210266",
   "metadata": {
    "execution": {
     "iopub.execute_input": "2021-11-15T16:34:12.492840Z",
     "iopub.status.busy": "2021-11-15T16:34:12.474955Z",
     "iopub.status.idle": "2021-11-15T16:34:12.519998Z",
     "shell.execute_reply": "2021-11-15T16:34:12.520575Z",
     "shell.execute_reply.started": "2021-11-15T16:25:58.844238Z"
    },
    "papermill": {
     "duration": 0.098629,
     "end_time": "2021-11-15T16:34:12.520793",
     "exception": false,
     "start_time": "2021-11-15T16:34:12.422164",
     "status": "completed"
    },
    "tags": []
   },
   "outputs": [
    {
     "name": "stdout",
     "output_type": "stream",
     "text": [
      "Person ID intersection count: 0\n",
      "Vehicle ID intersection count: 0\n"
     ]
    }
   ],
   "source": [
    "print(\"Person ID intersection count:\", len(set(train[\"Person ID\"].values).intersection(test[\"Person ID\"])))\n",
    "print(\"Vehicle ID intersection count:\", len(set(train[\"Vehicle ID\"].values).intersection(test[\"Vehicle ID\"])))"
   ]
  },
  {
   "cell_type": "markdown",
   "id": "a5778220",
   "metadata": {
    "papermill": {
     "duration": 0.042604,
     "end_time": "2021-11-15T16:34:12.606651",
     "exception": false,
     "start_time": "2021-11-15T16:34:12.564047",
     "status": "completed"
    },
    "tags": []
   },
   "source": [
    "We should definitely drop these 2 cols"
   ]
  },
  {
   "cell_type": "code",
   "execution_count": 14,
   "id": "32ea0d6a",
   "metadata": {
    "execution": {
     "iopub.execute_input": "2021-11-15T16:34:12.698574Z",
     "iopub.status.busy": "2021-11-15T16:34:12.697510Z",
     "iopub.status.idle": "2021-11-15T16:34:12.700534Z",
     "shell.execute_reply": "2021-11-15T16:34:12.700012Z",
     "shell.execute_reply.started": "2021-11-15T16:25:58.904254Z"
    },
    "papermill": {
     "duration": 0.051088,
     "end_time": "2021-11-15T16:34:12.700694",
     "exception": false,
     "start_time": "2021-11-15T16:34:12.649606",
     "status": "completed"
    },
    "tags": []
   },
   "outputs": [],
   "source": [
    "col_imputed_val.append((\"Person ID\", \"DROP\"))\n",
    "col_imputed_val.append((\"Vehicle ID\", \"DROP\"))"
   ]
  },
  {
   "cell_type": "code",
   "execution_count": 15,
   "id": "69ad98ed",
   "metadata": {
    "execution": {
     "iopub.execute_input": "2021-11-15T16:34:12.796377Z",
     "iopub.status.busy": "2021-11-15T16:34:12.795147Z",
     "iopub.status.idle": "2021-11-15T16:34:15.122266Z",
     "shell.execute_reply": "2021-11-15T16:34:15.121672Z",
     "shell.execute_reply.started": "2021-11-15T16:25:58.911290Z"
    },
    "papermill": {
     "duration": 2.378992,
     "end_time": "2021-11-15T16:34:15.122415",
     "exception": false,
     "start_time": "2021-11-15T16:34:12.743423",
     "status": "completed"
    },
    "tags": []
   },
   "outputs": [],
   "source": [
    "train[\"Latitude\"], train[\"Longitude\"],  = np.round(train[\"Latitude\"], 5), np.round(train[\"Longitude\"], 5)\n",
    "test[\"Latitude\"], test[\"Longitude\"],  = np.round(test[\"Latitude\"], 5), np.round(test[\"Longitude\"], 5)\n",
    "train[\"Geos\"] = [str(train[\"Latitude\"][i]) + \"_\" + str(train[\"Longitude\"][i]) for i in range(len(train))]\n",
    "test[\"Geos\"] = [str(test[\"Latitude\"][i]) + \"_\" + str(test[\"Longitude\"][i]) for i in range(len(test))]\n",
    "\n",
    "col_imputed_val.append((\"Latitude\", \"DROP\"))\n",
    "col_imputed_val.append((\"Longitude\", \"DROP\"))"
   ]
  },
  {
   "cell_type": "markdown",
   "id": "b0b1ca59",
   "metadata": {
    "papermill": {
     "duration": 0.042888,
     "end_time": "2021-11-15T16:34:15.208156",
     "exception": false,
     "start_time": "2021-11-15T16:34:15.165268",
     "status": "completed"
    },
    "tags": []
   },
   "source": [
    "Note: This comment is not uptodate as I am going on experimenting with the col priority\n",
    "\n",
    "Based on EDA, I have grouped the features based on priority into p0-p5:\n",
    "\n",
    "p0: [\"Circumstance\", \"Driver Substance Abuse\", \"Non-Motorist Substance Abuse\", \"Surface Condition\", \"Related Non-Motorist\", \"Person_ID_Fault\", \"Person_ID_NoFault\"]\n",
    "p1: [\"Direction_change\", \"Light\", \"Traffic Control\", \"Collision Type\", \"Vehicle_ID_Fault\", \"Vehicle_ID_NoFault\"]\n",
    "p2: [\"Vehicle Movement\",  \"Impact\", \"Equipment Problems\", \"Weather\"]\n",
    "p3: [\"Model_Make\", \"Vehicle Body Type\", \"Crash_date\", \"Crash_time\", \"Vehicle_year\"]\n",
    "p4: [\"Vehicle Damage Extent\", \"Drivers License State\", \"Cross-Street Type\", \"Local Case Number\", \"Report Number\", \"Route Type\"]\n",
    "p5: TBD\n",
    "\n",
    "Add, Drop & Modify Features:\n",
    "- Direction_change: It will show if Vehicle Going Dir is different from Vehicle Continuing Dir which will help with predictions in my opinion\n",
    "- We already combined Longitude and Latitude into Geos. Maybe certain terrains are difficult to drive leading to accidents which is not driver fault. Some other areas (e.g. pub parking lot) could be hot-bed of faulty incidents\n",
    "- Crash Date/Time can be split into 2 features. We will remove the year and keep only the date and month. We will separate the hour and convert it into 24 hour format as a separate feature. We will also generate a new feature called day of the week based on calendar as Fri and Sat night time driving is a good feature to have\n",
    "- We will also retain MM/YY and will treat these 366 values as categorical. There are days (e.g. new year time, long weekends etc) which could impact labels\n",
    "- Vehicle Year - We will just convert it into age of the vehicle assuming 2021 is the current year"
   ]
  },
  {
   "cell_type": "code",
   "execution_count": 16,
   "id": "9bf0fb02",
   "metadata": {
    "execution": {
     "iopub.execute_input": "2021-11-15T16:34:15.304645Z",
     "iopub.status.busy": "2021-11-15T16:34:15.303570Z",
     "iopub.status.idle": "2021-11-15T16:34:23.596813Z",
     "shell.execute_reply": "2021-11-15T16:34:23.596221Z",
     "shell.execute_reply.started": "2021-11-15T16:26:01.215297Z"
    },
    "papermill": {
     "duration": 8.344903,
     "end_time": "2021-11-15T16:34:23.596977",
     "exception": false,
     "start_time": "2021-11-15T16:34:15.252074",
     "status": "completed"
    },
    "tags": []
   },
   "outputs": [],
   "source": [
    "def process_date(date):\n",
    "    month, day, year = (int(x) for x in date.split('/'))    \n",
    "    ans = datetime.date(year, month, day)\n",
    "    return ans.strftime(\"%A\")\n",
    "\n",
    "train[\"Crash_WeekDay\"] = [process_date(train[\"Crash Date/Time\"][i][:10]) for i in range(len(train))]\n",
    "test[\"Crash_WeekDay\"] = [process_date(test[\"Crash Date/Time\"][i][:10]) for i in range(len(test))]\n",
    "\n",
    "def addnew_cols(df):\n",
    "    df[\"Direction_change\"] = df[\"Vehicle Going Dir\"] + \"-\" + df[\"Vehicle Continuing Dir\"]\n",
    "    df[\"Vehicle Year\"] = 2021 - pd.to_numeric(df[\"Vehicle Year\"], errors='coerce').fillna(0).astype(np.int64)\n",
    "    ##Fix some impossible values in the data\n",
    "    df[\"Vehicle Year\"] = [df[\"Vehicle Year\"][i] if 0<=df[\"Vehicle Year\"][i]<=30 else 4 for i in range(len(df))]\n",
    "    df[\"Crash_Month\"] = [int(df[\"Crash Date/Time\"][i][:2]) for i in range(len(df))]\n",
    "    df[\"Crash_Month_Day\"] = [df[\"Crash Date/Time\"][i][:5] for i in range(len(df))]\n",
    "    df[\"Crash_Hour\"] = [df[\"Crash Date/Time\"][i][11:13] + df[\"Crash Date/Time\"][i][20:22] for i in range(len(df))]\n",
    "    return df\n",
    "    \n",
    "train, test = [addnew_cols(df) for df in [train, test]]"
   ]
  },
  {
   "cell_type": "code",
   "execution_count": 17,
   "id": "d2128b90",
   "metadata": {
    "execution": {
     "iopub.execute_input": "2021-11-15T16:34:23.689255Z",
     "iopub.status.busy": "2021-11-15T16:34:23.688455Z",
     "iopub.status.idle": "2021-11-15T16:34:23.690004Z",
     "shell.execute_reply": "2021-11-15T16:34:23.690539Z",
     "shell.execute_reply.started": "2021-11-15T16:26:09.402761Z"
    },
    "papermill": {
     "duration": 0.050738,
     "end_time": "2021-11-15T16:34:23.690767",
     "exception": false,
     "start_time": "2021-11-15T16:34:23.640029",
     "status": "completed"
    },
    "tags": []
   },
   "outputs": [],
   "source": [
    "col_imputed_val.append((\"Direction_change\", \"MODE\"))\n",
    "col_imputed_val.append((\"Vehicle Going Dir\", \"DROP\"))\n",
    "col_imputed_val.append((\"Vehicle Continuing Dir\", \"DROP\"))\n",
    "col_imputed_val.append((\"Crash Date/Time\", \"DROP\"))"
   ]
  },
  {
   "cell_type": "markdown",
   "id": "f3b23b98",
   "metadata": {
    "papermill": {
     "duration": 0.042947,
     "end_time": "2021-11-15T16:34:23.776985",
     "exception": false,
     "start_time": "2021-11-15T16:34:23.734038",
     "status": "completed"
    },
    "tags": []
   },
   "source": [
    "I added this piece of logic after seveal iterations. First issue is - Typically PM = 12+hour and AM = hour but 12:20 AM would be midnight and 12:20 PM would be afternoon. This needs to be corrected. Secondly we will something unconventional here. I would view 1 AM, 2 AM and even 3 AM as closer to 24. We will change these to 25, 26 and 27 respectively. So the hour col will vary from 4,5,6,7....23, 24, 25, 26, 27. This mitigates the ordinal effect"
   ]
  },
  {
   "cell_type": "code",
   "execution_count": 18,
   "id": "5ef453e1",
   "metadata": {
    "execution": {
     "iopub.execute_input": "2021-11-15T16:34:23.867456Z",
     "iopub.status.busy": "2021-11-15T16:34:23.866365Z",
     "iopub.status.idle": "2021-11-15T16:34:29.865019Z",
     "shell.execute_reply": "2021-11-15T16:34:29.865538Z",
     "shell.execute_reply.started": "2021-11-15T16:26:09.409630Z"
    },
    "papermill": {
     "duration": 6.045708,
     "end_time": "2021-11-15T16:34:29.865822",
     "exception": false,
     "start_time": "2021-11-15T16:34:23.820114",
     "status": "completed"
    },
    "tags": []
   },
   "outputs": [],
   "source": [
    "train[\"Crash_Hour\"] = [int(train[\"Crash_Hour\"][i][0:2]) \\\n",
    "                       if (train[\"Crash_Hour\"][i][2:4] == \"AM\" and int(train[\"Crash_Hour\"][i][0:2])!=12) or \\\n",
    "                           (train[\"Crash_Hour\"][i][2:4] == \"PM\" and int(train[\"Crash_Hour\"][i][0:2])==12) \\\n",
    "                       else int(train[\"Crash_Hour\"][i][0:2])+12 \\\n",
    "                    for i in range(len(train))]\n",
    "\n",
    "test[\"Crash_Hour\"] = [int(test[\"Crash_Hour\"][i][0:2]) \\\n",
    "                      if (test[\"Crash_Hour\"][i][2:4] == \"AM\" and int(test[\"Crash_Hour\"][i][0:2])!=12) or \\\n",
    "                          (test[\"Crash_Hour\"][i][2:4] == \"PM\" and int(test[\"Crash_Hour\"][i][0:2])==12) \\\n",
    "                      else int(test[\"Crash_Hour\"][i][0:2])+12 \\\n",
    "                    for i in range(len(test))]\n",
    "\n",
    "train[\"Crash_Hour\"] =  [train[\"Crash_Hour\"][i]+24 if (1<=train[\"Crash_Hour\"][i]<=3) else train[\"Crash_Hour\"][i] for i in range(len(train))]\n",
    "test[\"Crash_Hour\"] =  [test[\"Crash_Hour\"][i]+24 if (1<=test[\"Crash_Hour\"][i]<=3) else test[\"Crash_Hour\"][i] for i in range(len(test))]"
   ]
  },
  {
   "cell_type": "markdown",
   "id": "1d30285d",
   "metadata": {
    "papermill": {
     "duration": 0.0424,
     "end_time": "2021-11-15T16:34:29.952249",
     "exception": false,
     "start_time": "2021-11-15T16:34:29.909849",
     "status": "completed"
    },
    "tags": []
   },
   "source": [
    "The Local case number if float and it is better to treat this as categorical as they may not be ordinal (I feel)"
   ]
  },
  {
   "cell_type": "code",
   "execution_count": 19,
   "id": "829a83e9",
   "metadata": {
    "execution": {
     "iopub.execute_input": "2021-11-15T16:34:30.043519Z",
     "iopub.status.busy": "2021-11-15T16:34:30.042872Z",
     "iopub.status.idle": "2021-11-15T16:34:30.071299Z",
     "shell.execute_reply": "2021-11-15T16:34:30.071856Z",
     "shell.execute_reply.started": "2021-11-15T16:26:15.452195Z"
    },
    "papermill": {
     "duration": 0.075122,
     "end_time": "2021-11-15T16:34:30.072061",
     "exception": false,
     "start_time": "2021-11-15T16:34:29.996939",
     "status": "completed"
    },
    "tags": []
   },
   "outputs": [],
   "source": [
    "train[\"Local Case Number\"] = train[\"Local Case Number\"].astype('str')\n",
    "test[\"Local Case Number\"] = test[\"Local Case Number\"].astype('str')"
   ]
  },
  {
   "cell_type": "markdown",
   "id": "85bec0e0",
   "metadata": {
    "papermill": {
     "duration": 0.042377,
     "end_time": "2021-11-15T16:34:30.157454",
     "exception": false,
     "start_time": "2021-11-15T16:34:30.115077",
     "status": "completed"
    },
    "tags": []
   },
   "source": [
    "Lastly I wanted to add these three columns for Model, Geos and Circumstance. I am not sure if I will get time to test this"
   ]
  },
  {
   "cell_type": "code",
   "execution_count": 20,
   "id": "4cbbd7c8",
   "metadata": {
    "execution": {
     "iopub.execute_input": "2021-11-15T16:34:30.267202Z",
     "iopub.status.busy": "2021-11-15T16:34:30.245635Z",
     "iopub.status.idle": "2021-11-15T16:34:59.618983Z",
     "shell.execute_reply": "2021-11-15T16:34:59.618346Z",
     "shell.execute_reply.started": "2021-11-15T16:26:15.485672Z"
    },
    "papermill": {
     "duration": 29.418926,
     "end_time": "2021-11-15T16:34:59.619169",
     "exception": false,
     "start_time": "2021-11-15T16:34:30.200243",
     "status": "completed"
    },
    "tags": []
   },
   "outputs": [],
   "source": [
    "dictModel = {}\n",
    "models = train[\"Vehicle Model\"].unique()\n",
    "for model in models:\n",
    "    total_count = len(train[train[\"Vehicle Model\"]==model])\n",
    "    if total_count > 10:\n",
    "        atfault_count = len(train[(train.Fault==1) & (train[\"Vehicle Model\"]==model)])\n",
    "        atfault = round(atfault_count/total_count, 1)\n",
    "        dictModel[model] = atfault\n",
    "    else:\n",
    "        dictModel[model] = 0.5\n",
    "        \n",
    "train[\"Model_prob\"] = train[\"Vehicle Model\"].map(dictModel)\n",
    "##Use train data for test. No LEAK\n",
    "test[\"Model_prob\"] = test[\"Vehicle Model\"].map(dictModel)\n",
    "\n",
    "test['Model_prob'] = test['Model_prob'].replace(np.nan, 0.5)\n",
    "train['Model_prob'] = train['Model_prob'].replace(np.nan, 0.5)"
   ]
  },
  {
   "cell_type": "markdown",
   "id": "951c0803",
   "metadata": {
    "papermill": {
     "duration": 0.042511,
     "end_time": "2021-11-15T16:34:59.704822",
     "exception": false,
     "start_time": "2021-11-15T16:34:59.662311",
     "status": "completed"
    },
    "tags": []
   },
   "source": [
    "We now process col_imputed_val for train and test. We ensire there is no leakage. MODEs if taken are taken from TRAIN data"
   ]
  },
  {
   "cell_type": "code",
   "execution_count": 21,
   "id": "62468d56",
   "metadata": {
    "execution": {
     "iopub.execute_input": "2021-11-15T16:34:59.807662Z",
     "iopub.status.busy": "2021-11-15T16:34:59.799356Z",
     "iopub.status.idle": "2021-11-15T16:35:01.491098Z",
     "shell.execute_reply": "2021-11-15T16:35:01.490461Z",
     "shell.execute_reply.started": "2021-11-15T16:26:45.165705Z"
    },
    "papermill": {
     "duration": 1.742981,
     "end_time": "2021-11-15T16:35:01.491265",
     "exception": false,
     "start_time": "2021-11-15T16:34:59.748284",
     "status": "completed"
    },
    "tags": []
   },
   "outputs": [
    {
     "name": "stderr",
     "output_type": "stream",
     "text": [
      "/opt/conda/lib/python3.7/site-packages/ipykernel_launcher.py:4: FutureWarning: In a future version of pandas all arguments of DataFrame.drop except for the argument 'labels' will be keyword-only\n",
      "  after removing the cwd from sys.path.\n"
     ]
    }
   ],
   "source": [
    "for tup in col_imputed_val:\n",
    "    col, action = tup[0], tup[1]\n",
    "    if action == \"DROP\":\n",
    "        train, test = train.drop(col, 1), test.drop(col, 1)\n",
    "    elif action in [\"UNKNOWN\", \"Unknown\", \"OTHER\"]:\n",
    "        train[col], test[col] = train[col].fillna(action), test[col].fillna(action)\n",
    "    elif action == \"123123123\":\n",
    "        train[col], test[col] = train[col].fillna(\"123123123\"), test[col].fillna(\"123123123\")\n",
    "    elif action == \"MODE\":\n",
    "        mode_fault = train[train.Fault == 1][col].mode().values[0]\n",
    "        mode_nofault = train[train.Fault == 0][col].mode().values[0]\n",
    "        mode = train[col].mode().values[0]\n",
    "        ##Impute appropriate mode to train based on label\n",
    "        train.loc[((train[col].isnull()) & (train.Fault == 1)), col] = mode_fault\n",
    "        train.loc[((train[col].isnull()) & (train.Fault == 0)), col] = mode_nofault\n",
    "        ##Impute overall TRAIN mode to test (no leak)\n",
    "        test[col] = test[col].fillna(mode)"
   ]
  },
  {
   "cell_type": "code",
   "execution_count": 22,
   "id": "eb2f2e28",
   "metadata": {
    "execution": {
     "iopub.execute_input": "2021-11-15T16:35:01.776599Z",
     "iopub.status.busy": "2021-11-15T16:35:01.775865Z",
     "iopub.status.idle": "2021-11-15T16:35:02.076185Z",
     "shell.execute_reply": "2021-11-15T16:35:02.076719Z",
     "shell.execute_reply.started": "2021-11-15T16:26:46.831668Z"
    },
    "papermill": {
     "duration": 0.541832,
     "end_time": "2021-11-15T16:35:02.076980",
     "exception": false,
     "start_time": "2021-11-15T16:35:01.535148",
     "status": "completed"
    },
    "tags": []
   },
   "outputs": [
    {
     "name": "stdout",
     "output_type": "stream",
     "text": [
      "Columns having null\n",
      " Index([], dtype='object')\n",
      "Columns having null\n",
      " Index([], dtype='object')\n"
     ]
    }
   ],
   "source": [
    "print(\"Columns having null\\n\", train.columns[train.isnull().any()])\n",
    "print(\"Columns having null\\n\", test.columns[test.isnull().any()])"
   ]
  },
  {
   "cell_type": "markdown",
   "id": "f6c1f569",
   "metadata": {
    "papermill": {
     "duration": 0.043192,
     "end_time": "2021-11-15T16:35:02.164246",
     "exception": false,
     "start_time": "2021-11-15T16:35:02.121054",
     "status": "completed"
    },
    "tags": []
   },
   "source": [
    "Thankfully, there are no test cols having null which are non-null cols in train. Our data does not contain missing values now. "
   ]
  },
  {
   "cell_type": "code",
   "execution_count": 23,
   "id": "331547d3",
   "metadata": {
    "execution": {
     "iopub.execute_input": "2021-11-15T16:35:02.260887Z",
     "iopub.status.busy": "2021-11-15T16:35:02.260078Z",
     "iopub.status.idle": "2021-11-15T16:35:02.640252Z",
     "shell.execute_reply": "2021-11-15T16:35:02.639689Z",
     "shell.execute_reply.started": "2021-11-15T16:26:47.343322Z"
    },
    "papermill": {
     "duration": 0.432453,
     "end_time": "2021-11-15T16:35:02.640400",
     "exception": false,
     "start_time": "2021-11-15T16:35:02.207947",
     "status": "completed"
    },
    "tags": []
   },
   "outputs": [
    {
     "name": "stdout",
     "output_type": "stream",
     "text": [
      "\n",
      "COL NAME: Circumstance NUM OF UNIQUE VALUES: 140 SAMPLE: ['N/A, WET'\n",
      " 'BACKUP DUE TO REGULAR CONGESTION, SLEET, HAIL, FREEZ. RAIN, WET'\n",
      " 'UNKNOWN']\n",
      "\n",
      "COL NAME: Surface Condition NUM OF UNIQUE VALUES: 11 SAMPLE: ['WET' 'DRY' 'UNKNOWN']\n",
      "\n",
      "COL NAME: Cross-Street Name NUM OF UNIQUE VALUES: 4525 SAMPLE: ['THURSTON RD' 'FLACK ST' 'STRUC #15082']\n",
      "\n",
      "COL NAME: Crash_WeekDay NUM OF UNIQUE VALUES: 7 SAMPLE: ['Monday' 'Saturday' 'Sunday']\n",
      "\n",
      "COL NAME: Vehicle Movement NUM OF UNIQUE VALUES: 22 SAMPLE: ['MOVING CONSTANT SPEED' 'ACCELERATING' 'PARKING']\n",
      "\n",
      "COL NAME: Route Type NUM OF UNIQUE VALUES: 10 SAMPLE: ['Maryland (State)' 'County' 'US (State)']\n",
      "\n",
      "COL NAME: Agency Name NUM OF UNIQUE VALUES: 10 SAMPLE: ['Montgomery County Police' 'Rockville Police Departme' 'MONTGOMERY']\n",
      "\n",
      "COL NAME: Crash_Hour NUM OF UNIQUE VALUES: 24 SAMPLE: [16 10  8]\n",
      "\n",
      "COL NAME: Driver Substance Abuse NUM OF UNIQUE VALUES: 11 SAMPLE: ['NONE DETECTED' 'UNKNOWN' 'ALCOHOL CONTRIBUTED']\n",
      "\n",
      "COL NAME: Vehicle Year NUM OF UNIQUE VALUES: 31 SAMPLE: [16  3  5]\n",
      "\n",
      "COL NAME: Light NUM OF UNIQUE VALUES: 8 SAMPLE: ['DAYLIGHT' 'UNKNOWN' 'DARK LIGHTS ON']\n",
      "\n",
      "COL NAME: Non-Motorist Substance Abuse NUM OF UNIQUE VALUES: 9 SAMPLE: ['UNKNOWN' 'MEDICATION PRESENT' 'ALCOHOL PRESENT']\n",
      "\n",
      "COL NAME: Model_prob NUM OF UNIQUE VALUES: 9 SAMPLE: [0.6 0.3 0.5]\n",
      "\n",
      "COL NAME: Vehicle Body Type NUM OF UNIQUE VALUES: 30 SAMPLE: ['PICKUP TRUCK' 'PASSENGER CAR' 'TRANSIT BUS']\n",
      "\n",
      "COL NAME: Crash_Month NUM OF UNIQUE VALUES: 12 SAMPLE: [6 2 5]\n",
      "\n",
      "COL NAME: Report Number NUM OF UNIQUE VALUES: 3256 SAMPLE: ['MP060D' 'MP000X' 'MP070N']\n",
      "\n",
      "COL NAME: Geos NUM OF UNIQUE VALUES: 43111 SAMPLE: ['39.26338_-77.3442' '39.06891_-77.06323' '38.99358_-77.03272']\n",
      "\n",
      "COL NAME: Equipment Problems NUM OF UNIQUE VALUES: 8 SAMPLE: ['NO MISUSE' 'OTHER' 'UNKNOWN']\n",
      "\n",
      "COL NAME: Location NUM OF UNIQUE VALUES: 38953 SAMPLE: ['3.6383 7.4233' '3.0862 7.324' '3.9583 7.3783']\n",
      "\n",
      "COL NAME: Injury Severity NUM OF UNIQUE VALUES: 5 SAMPLE: ['SUSPECTED MINOR INJURY' 'NO APPARENT INJURY' 'POSSIBLE INJURY']\n",
      "\n",
      "COL NAME: Drivers License State NUM OF UNIQUE VALUES: 65 SAMPLE: ['MD' 'DC' 'HI']\n",
      "\n",
      "COL NAME: Vehicle Damage Extent NUM OF UNIQUE VALUES: 7 SAMPLE: ['DESTROYED' 'DISABLING' 'SUPERFICIAL']\n",
      "\n",
      "COL NAME: Vehicle First Impact Location NUM OF UNIQUE VALUES: 16 SAMPLE: ['TWELVE OCLOCK' 'SIX OCLOCK' 'TEN OCLOCK']\n",
      "\n",
      "COL NAME: Parked Vehicle NUM OF UNIQUE VALUES: 2 SAMPLE: ['No' 'Yes']\n",
      "\n",
      "COL NAME: Local Case Number NUM OF UNIQUE VALUES: 1430 SAMPLE: ['10196' '20080' '10103']\n",
      "\n",
      "COL NAME: Cross-Street Type NUM OF UNIQUE VALUES: 10 SAMPLE: ['County' 'Maryland (State)' 'Municipality']\n",
      "\n",
      "COL NAME: Related Non-Motorist NUM OF UNIQUE VALUES: 11 SAMPLE: ['OTHER' 'PEDESTRIAN' 'MACHINE OPERATOR/RIDER']\n",
      "\n",
      "COL NAME: Weather NUM OF UNIQUE VALUES: 12 SAMPLE: ['CLEAR' 'CLOUDY' 'OTHER']\n",
      "\n",
      "COL NAME: Vehicle Model NUM OF UNIQUE VALUES: 3128 SAMPLE: ['TRUCK' 'FIESTA' 'TBU']\n",
      "\n",
      "COL NAME: Collision Type NUM OF UNIQUE VALUES: 18 SAMPLE: ['SINGLE VEHICLE' 'STRAIGHT MOVEMENT ANGLE' 'SAME DIRECTION RIGHT TURN']\n",
      "\n",
      "COL NAME: Road Name NUM OF UNIQUE VALUES: 2226 SAMPLE: ['OLD HUNDRED RD' 'JANET RD' 'COLESVILLE RD']\n",
      "\n",
      "COL NAME: Vehicle Make NUM OF UNIQUE VALUES: 886 SAMPLE: ['GMC' 'FORD' 'NEW FLYER']\n",
      "\n",
      "COL NAME: ACRS Report Type NUM OF UNIQUE VALUES: 3 SAMPLE: ['Injury Crash' 'Property Damage Crash' 'Fatal Crash']\n",
      "\n",
      "COL NAME: Traffic Control NUM OF UNIQUE VALUES: 11 SAMPLE: ['NO CONTROLS' 'STOP SIGN' 'OTHER']\n",
      "\n",
      "COL NAME: Speed Limit NUM OF UNIQUE VALUES: 15 SAMPLE: [40 25 35]\n",
      "\n",
      "COL NAME: Direction_change NUM OF UNIQUE VALUES: 25 SAMPLE: ['Unknown-South' 'South-South' 'West-West']\n",
      "\n",
      "COL NAME: Crash_Month_Day NUM OF UNIQUE VALUES: 366 SAMPLE: ['06/05' '02/22' '06/11']\n",
      "\n",
      "COL NAME: Driverless Vehicle NUM OF UNIQUE VALUES: 2 SAMPLE: ['No' 'Unknown']\n",
      "\n",
      "COL NAME: Vehicle Second Impact Location NUM OF UNIQUE VALUES: 16 SAMPLE: ['TWELVE OCLOCK' 'SIX OCLOCK' 'TWO OCLOCK']\n",
      "\n",
      "COL NAME: Off-Road Description NUM OF UNIQUE VALUES: 4017 SAMPLE: ['12305 SHOREFIELD RD' 'PARKING LOT'\n",
      " 'PARKING LOT OF 201 RUSSELL AVE \\n(BACK PARKING AREA)']\n"
     ]
    }
   ],
   "source": [
    "for col in set(train.columns)-set([\"Fault\"]):\n",
    "    print(\"\\nCOL NAME:\", col, \"NUM OF UNIQUE VALUES:\", len(train[col].unique()), \"SAMPLE:\", train[col].unique()[:3])"
   ]
  },
  {
   "cell_type": "markdown",
   "id": "c3986845",
   "metadata": {
    "papermill": {
     "duration": 0.044434,
     "end_time": "2021-11-15T16:35:02.729716",
     "exception": false,
     "start_time": "2021-11-15T16:35:02.685282",
     "status": "completed"
    },
    "tags": []
   },
   "source": [
    "The bulk of the work is done. Hopefully rest should be fast. We will segrgate the cols into p0-p5. We will also create 2 sets. Because boosters like LightGBM, catboost etc can directly work with categorical vars, we can feed more cols to these type of algos without running into memory problems"
   ]
  },
  {
   "cell_type": "code",
   "execution_count": 24,
   "id": "6218b841",
   "metadata": {
    "execution": {
     "iopub.execute_input": "2021-11-15T16:35:02.830529Z",
     "iopub.status.busy": "2021-11-15T16:35:02.829660Z",
     "iopub.status.idle": "2021-11-15T16:35:02.832904Z",
     "shell.execute_reply": "2021-11-15T16:35:02.832234Z",
     "shell.execute_reply.started": "2021-11-15T16:26:47.724715Z"
    },
    "papermill": {
     "duration": 0.058222,
     "end_time": "2021-11-15T16:35:02.833054",
     "exception": false,
     "start_time": "2021-11-15T16:35:02.774832",
     "status": "completed"
    },
    "tags": []
   },
   "outputs": [],
   "source": [
    "p0 = [\"Circumstance\", \"Driver Substance Abuse\", \"Non-Motorist Substance Abuse\", \"Surface Condition\", \"Related Non-Motorist\", \"Model_prob\"]\n",
    "p1 = [\"Direction_change\", \"Light\", \"Traffic Control\", \"Collision Type\", \"Crash_WeekDay\"]\n",
    "p2 = [\"Vehicle Movement\", \"Vehicle First Impact Location\", \"Vehicle Second Impact Location\", \"Equipment Problems\", \"Weather\", \"Speed Limit\",\\\n",
    "     \"Crash_Month\", \"Crash_Hour\"]\n",
    "p3 = [\"Vehicle Body Type\", \"Vehicle Year\", \"Vehicle Damage Extent\", \"Injury Severity\", \"Driverless Vehicle\", \"Parked Vehicle\", \"Location\", \\\n",
    "     \"Crash_Month_Day\"]\n",
    "p4 = [\"Drivers License State\", \"Cross-Street Type\", \"Local Case Number\", \"Report Number\", \"Route Type\", \\\n",
    "      \"Agency Name\", \"ACRS Report Type\", \"Road Name\",\"Cross-Street Name\", \"Cross-Street Name\", \"Off-Road Description\", \"Geos\"]\n",
    "\n",
    "\n",
    "p0_boost = [\"Circumstance\", \"Driver Substance Abuse\", \"Non-Motorist Substance Abuse\", \"Surface Condition\", \"Related Non-Motorist\", \"Geos\"]\n",
    "p1_boost = [\"Direction_change\", \"Light\", \"Traffic Control\", \"Collision Type\", \"Crash_WeekDay\", \"Model_prob\"]\n",
    "p2_boost = [\"Vehicle Movement\", \"Vehicle First Impact Location\", \"Vehicle Second Impact Location\", \"Equipment Problems\", \"Weather\", \"Speed Limit\",\\\n",
    "     \"Crash_Month\", \"Crash_Hour\"]\n",
    "p3_boost = [\"Vehicle Body Type\", \"Vehicle Year\", \"Vehicle Damage Extent\", \"Injury Severity\", \"Driverless Vehicle\", \"Parked Vehicle\"]\n",
    "p4_boost = [\"Drivers License State\", \"Cross-Street Type\", \"Route Type\", \"Crash_Month_Day\", \\\n",
    "      \"Agency Name\", \"ACRS Report Type\", \"Road Name\", \"Vehicle Model\", \"Report Number\", \"Local Case Number\", \"Location\"]\n",
    "p5_boost = [\"Cross-Street Name\", \"Off-Road Description\", \"Vehicle Make\"]"
   ]
  },
  {
   "cell_type": "code",
   "execution_count": 25,
   "id": "382611ef",
   "metadata": {
    "execution": {
     "iopub.execute_input": "2021-11-15T16:35:02.928464Z",
     "iopub.status.busy": "2021-11-15T16:35:02.927373Z",
     "iopub.status.idle": "2021-11-15T16:35:02.930386Z",
     "shell.execute_reply": "2021-11-15T16:35:02.929770Z",
     "shell.execute_reply.started": "2021-11-15T16:26:47.767281Z"
    },
    "papermill": {
     "duration": 0.052517,
     "end_time": "2021-11-15T16:35:02.930528",
     "exception": false,
     "start_time": "2021-11-15T16:35:02.878011",
     "status": "completed"
    },
    "tags": []
   },
   "outputs": [],
   "source": [
    "col_rf = p0+p1+p2\n",
    "col_boost = p0_boost + p1_boost + p2_boost + p3_boost + p4_boost"
   ]
  },
  {
   "cell_type": "markdown",
   "id": "b0c08e23",
   "metadata": {
    "papermill": {
     "duration": 0.045615,
     "end_time": "2021-11-15T16:35:03.021821",
     "exception": false,
     "start_time": "2021-11-15T16:35:02.976206",
     "status": "completed"
    },
    "tags": []
   },
   "source": [
    "Some sanity checks if we missed anything or got name incorrect. Note that we ignore p5_boost for now"
   ]
  },
  {
   "cell_type": "code",
   "execution_count": 26,
   "id": "bf048275",
   "metadata": {
    "execution": {
     "iopub.execute_input": "2021-11-15T16:35:03.118467Z",
     "iopub.status.busy": "2021-11-15T16:35:03.117508Z",
     "iopub.status.idle": "2021-11-15T16:35:03.125516Z",
     "shell.execute_reply": "2021-11-15T16:35:03.126219Z",
     "shell.execute_reply.started": "2021-11-15T16:26:47.783490Z"
    },
    "papermill": {
     "duration": 0.058226,
     "end_time": "2021-11-15T16:35:03.126466",
     "exception": false,
     "start_time": "2021-11-15T16:35:03.068240",
     "status": "completed"
    },
    "tags": []
   },
   "outputs": [
    {
     "name": "stdout",
     "output_type": "stream",
     "text": [
      "Done checking RF cols\n",
      "Done checking Boost cols\n",
      "Anything left? 0\n"
     ]
    }
   ],
   "source": [
    "for col in col_rf:\n",
    "    print(\"Recheck col names\", col) if col not in train.columns else None\n",
    "print(\"Done checking RF cols\")\n",
    "\n",
    "for col in col_boost:\n",
    "    print(\"Recheck col names\", col) if col not in train.columns else None\n",
    "print(\"Done checking Boost cols\")\n",
    "\n",
    "print(\"Anything left?\",len(set(train.columns) - set(col_boost) - set([\"Fault\"]) - set(p5_boost)))"
   ]
  },
  {
   "cell_type": "code",
   "execution_count": 27,
   "id": "74683a35",
   "metadata": {
    "execution": {
     "iopub.execute_input": "2021-11-15T16:35:03.221960Z",
     "iopub.status.busy": "2021-11-15T16:35:03.221262Z",
     "iopub.status.idle": "2021-11-15T16:35:04.142462Z",
     "shell.execute_reply": "2021-11-15T16:35:04.143234Z",
     "shell.execute_reply.started": "2021-11-15T16:26:47.795950Z"
    },
    "papermill": {
     "duration": 0.969771,
     "end_time": "2021-11-15T16:35:04.143508",
     "exception": false,
     "start_time": "2021-11-15T16:35:03.173737",
     "status": "completed"
    },
    "tags": []
   },
   "outputs": [
    {
     "name": "stderr",
     "output_type": "stream",
     "text": [
      "/opt/conda/lib/python3.7/site-packages/ipykernel_launcher.py:8: FutureWarning: In a future version of pandas all arguments of DataFrame.drop except for the argument 'labels' will be keyword-only\n",
      "  \n",
      "/opt/conda/lib/python3.7/site-packages/ipykernel_launcher.py:9: FutureWarning: In a future version of pandas all arguments of DataFrame.drop except for the argument 'labels' will be keyword-only\n",
      "  if __name__ == '__main__':\n",
      "/opt/conda/lib/python3.7/site-packages/ipykernel_launcher.py:10: FutureWarning: In a future version of pandas all arguments of DataFrame.drop except for the argument 'labels' will be keyword-only\n",
      "  # Remove the CWD from sys.path while we load stuff.\n",
      "/opt/conda/lib/python3.7/site-packages/ipykernel_launcher.py:17: FutureWarning: In a future version of pandas all arguments of DataFrame.drop except for the argument 'labels' will be keyword-only\n",
      "/opt/conda/lib/python3.7/site-packages/ipykernel_launcher.py:18: FutureWarning: In a future version of pandas all arguments of DataFrame.drop except for the argument 'labels' will be keyword-only\n",
      "/opt/conda/lib/python3.7/site-packages/ipykernel_launcher.py:19: FutureWarning: In a future version of pandas all arguments of DataFrame.drop except for the argument 'labels' will be keyword-only\n"
     ]
    }
   ],
   "source": [
    "##We take a copy of train and test. For RF, we have to OHE\n",
    "train_rf, test_rf = train.copy(), test.copy()\n",
    "train_rf_y = train_rf[\"Fault\"]\n",
    "\n",
    "##Drop the unwanted cols for rf\n",
    "dropcols = set(train.columns) - set(col_rf) - set([\"Fault\"])\n",
    "for col in dropcols:\n",
    "    train_rf, test_rf = train_rf.drop(col, 1) , test_rf.drop(col, 1)\n",
    "train_rf = train_rf.drop(\"Fault\", 1) \n",
    "test_rf = test_rf.drop(\"Id\", 1) \n",
    "\n",
    "##Do likewise for boost algos.\n",
    "train_boost_X, test_boost_X = train.copy(), test.copy()\n",
    "train_boost_y = train_boost_X[\"Fault\"]\n",
    "dropcols = set(train.columns) - set(col_boost) - set([\"Fault\"])\n",
    "for col in dropcols:\n",
    "    train_boost_X, test_boost_X = train_boost_X.drop(col, 1) , test_boost_X.drop(col, 1)\n",
    "train_boost_X = train_boost_X.drop(\"Fault\", 1) \n",
    "test_boost_X = test_boost_X.drop(\"Id\", 1) "
   ]
  },
  {
   "cell_type": "code",
   "execution_count": 28,
   "id": "7c67d2b7",
   "metadata": {
    "execution": {
     "iopub.execute_input": "2021-11-15T16:35:04.243271Z",
     "iopub.status.busy": "2021-11-15T16:35:04.242526Z",
     "iopub.status.idle": "2021-11-15T16:35:04.245118Z",
     "shell.execute_reply": "2021-11-15T16:35:04.245728Z",
     "shell.execute_reply.started": "2021-11-15T16:26:48.721796Z"
    },
    "papermill": {
     "duration": 0.054487,
     "end_time": "2021-11-15T16:35:04.245908",
     "exception": false,
     "start_time": "2021-11-15T16:35:04.191421",
     "status": "completed"
    },
    "tags": []
   },
   "outputs": [
    {
     "name": "stdout",
     "output_type": "stream",
     "text": [
      "start 625713152\n"
     ]
    }
   ],
   "source": [
    "print('start', process.memory_info().rss)"
   ]
  },
  {
   "cell_type": "code",
   "execution_count": 29,
   "id": "b0506a5a",
   "metadata": {
    "execution": {
     "iopub.execute_input": "2021-11-15T16:35:04.346929Z",
     "iopub.status.busy": "2021-11-15T16:35:04.346222Z",
     "iopub.status.idle": "2021-11-15T16:35:04.855929Z",
     "shell.execute_reply": "2021-11-15T16:35:04.855329Z",
     "shell.execute_reply.started": "2021-11-15T16:26:48.729729Z"
    },
    "papermill": {
     "duration": 0.564247,
     "end_time": "2021-11-15T16:35:04.856113",
     "exception": false,
     "start_time": "2021-11-15T16:35:04.291866",
     "status": "completed"
    },
    "tags": []
   },
   "outputs": [
    {
     "data": {
      "text/plain": [
       "0"
      ]
     },
     "execution_count": 29,
     "metadata": {},
     "output_type": "execute_result"
    }
   ],
   "source": [
    "##OHE the categorical for RF only\n",
    "categorical=[]\n",
    "for col in train_rf.columns:\n",
    "    if type(train[col][0]) == str:\n",
    "        categorical.append(col)        \n",
    "        \n",
    "OHE_train_rf = pd.get_dummies(train_rf, columns = categorical)\n",
    "OHE_test_rf = pd.get_dummies(test_rf, columns = categorical)\n",
    "train_rf_X, test_rf_X = OHE_train_rf.align(OHE_test_rf,join='left', fill_value=0, axis=1)\n",
    "del OHE_train_rf, OHE_test_rf\n",
    "gc.collect()"
   ]
  },
  {
   "cell_type": "markdown",
   "id": "7b03b122",
   "metadata": {
    "papermill": {
     "duration": 0.047339,
     "end_time": "2021-11-15T16:35:04.950517",
     "exception": false,
     "start_time": "2021-11-15T16:35:04.903178",
     "status": "completed"
    },
    "tags": []
   },
   "source": [
    "So now we have train_rf_X, test_rf_X, train_rf_y AND train_boost_X, test_boost_X, train_boost_y as well as the original train, test copies just for reference\n",
    "\n",
    "We also define a neural net in case we want to use it (depending on time)"
   ]
  },
  {
   "cell_type": "code",
   "execution_count": 30,
   "id": "57fd9f67",
   "metadata": {
    "execution": {
     "iopub.execute_input": "2021-11-15T16:35:05.053004Z",
     "iopub.status.busy": "2021-11-15T16:35:05.052304Z",
     "iopub.status.idle": "2021-11-15T16:35:05.054704Z",
     "shell.execute_reply": "2021-11-15T16:35:05.054103Z",
     "shell.execute_reply.started": "2021-11-15T16:26:49.231829Z"
    },
    "papermill": {
     "duration": 0.058011,
     "end_time": "2021-11-15T16:35:05.054845",
     "exception": false,
     "start_time": "2021-11-15T16:35:04.996834",
     "status": "completed"
    },
    "tags": []
   },
   "outputs": [],
   "source": [
    "class Net(nn.Module):\n",
    "    def __init__(self, col_size):\n",
    "        super(Net, self).__init__()\n",
    "        self.fc1 = nn.Linear(col_size, 1000)\n",
    "        self.fc2 = nn.Linear(1000, 2)\n",
    "        \n",
    "    def forward(self, x):\n",
    "        x = self.fc1(x)\n",
    "        x = F.dropout(x, p=0.1)\n",
    "        x = F.relu(x)\n",
    "        x = self.fc2(x)\n",
    "        x = F.sigmoid(x)\n",
    "        return x\n",
    "    \n",
    "batch_size = 50\n",
    "num_epochs = 15\n",
    "learning_rate = 0.01\n",
    "criterion = nn.CrossEntropyLoss()"
   ]
  },
  {
   "cell_type": "markdown",
   "id": "f77c0177",
   "metadata": {
    "papermill": {
     "duration": 0.047304,
     "end_time": "2021-11-15T16:35:05.148289",
     "exception": false,
     "start_time": "2021-11-15T16:35:05.100985",
     "status": "completed"
    },
    "tags": []
   },
   "source": [
    "We will now split the train data into train, validation and have a stratified 5 CV split."
   ]
  },
  {
   "cell_type": "code",
   "execution_count": 31,
   "id": "be789ddc",
   "metadata": {
    "execution": {
     "iopub.execute_input": "2021-11-15T16:35:05.257107Z",
     "iopub.status.busy": "2021-11-15T16:35:05.256357Z",
     "iopub.status.idle": "2021-11-15T17:08:56.890237Z",
     "shell.execute_reply": "2021-11-15T17:08:56.889605Z",
     "shell.execute_reply.started": "2021-11-15T16:26:49.242160Z"
    },
    "papermill": {
     "duration": 2031.695743,
     "end_time": "2021-11-15T17:08:56.890405",
     "exception": false,
     "start_time": "2021-11-15T16:35:05.194662",
     "status": "completed"
    },
    "tags": []
   },
   "outputs": [
    {
     "name": "stdout",
     "output_type": "stream",
     "text": [
      "TRAIN: 46341 VALID: 5149\n",
      "1 of KFold 10\n",
      "Fitting...\n",
      "Predicting...\n",
      "Scoring...\n",
      "Accuracy RF: 0.8479\n",
      "Accuracy Boost: 0.8842 \n",
      "\n",
      "TRAIN: 46341 VALID: 5149\n",
      "2 of KFold 10\n",
      "Fitting...\n",
      "Predicting...\n",
      "Scoring...\n",
      "Accuracy RF: 0.8582\n",
      "Accuracy Boost: 0.8977 \n",
      "\n",
      "TRAIN: 46341 VALID: 5149\n",
      "3 of KFold 10\n",
      "Fitting...\n",
      "Predicting...\n",
      "Scoring...\n",
      "Accuracy RF: 0.8435\n",
      "Accuracy Boost: 0.8835 \n",
      "\n",
      "TRAIN: 46341 VALID: 5149\n",
      "4 of KFold 10\n",
      "Fitting...\n",
      "Predicting...\n",
      "Scoring...\n",
      "Accuracy RF: 0.8491\n",
      "Accuracy Boost: 0.8881 \n",
      "\n",
      "TRAIN: 46341 VALID: 5149\n",
      "5 of KFold 10\n",
      "Fitting...\n",
      "Predicting...\n",
      "Scoring...\n",
      "Accuracy RF: 0.8501\n",
      "Accuracy Boost: 0.8936 \n",
      "\n",
      "TRAIN: 46341 VALID: 5149\n",
      "6 of KFold 10\n",
      "Fitting...\n",
      "Predicting...\n",
      "Scoring...\n",
      "Accuracy RF: 0.8507\n",
      "Accuracy Boost: 0.8934 \n",
      "\n",
      "TRAIN: 46341 VALID: 5149\n",
      "7 of KFold 10\n",
      "Fitting...\n",
      "Predicting...\n",
      "Scoring...\n",
      "Accuracy RF: 0.8421\n",
      "Accuracy Boost: 0.8813 \n",
      "\n",
      "TRAIN: 46341 VALID: 5149\n",
      "8 of KFold 10\n",
      "Fitting...\n",
      "Predicting...\n",
      "Scoring...\n",
      "Accuracy RF: 0.8549\n",
      "Accuracy Boost: 0.8912 \n",
      "\n",
      "TRAIN: 46341 VALID: 5149\n",
      "9 of KFold 10\n",
      "Fitting...\n",
      "Predicting...\n",
      "Scoring...\n",
      "Accuracy RF: 0.8407\n",
      "Accuracy Boost: 0.8798 \n",
      "\n",
      "TRAIN: 46341 VALID: 5149\n",
      "10 of KFold 10\n",
      "Fitting...\n",
      "Predicting...\n",
      "Scoring...\n",
      "Accuracy RF: 0.8538\n",
      "Accuracy Boost: 0.894 \n",
      "\n",
      "\n",
      "Final score RF: 0.8491\n",
      "\n",
      "Final score Boost: 0.8887\n"
     ]
    }
   ],
   "source": [
    "kfold = StratifiedKFold(n_splits=10, shuffle=True, random_state=config.SEED)\n",
    "cv_score_rf,cv_score_boost, fold = [],[], 1\n",
    "preds_ensemble_rf, preds_ensemble_boost = np.zeros(len(test_rf_X)), np.zeros(len(test_boost_X))\n",
    "\n",
    "for train_index, valid_index in kfold.split(train_rf_X, train_rf_y):\n",
    "    ##We will use the above split for RF as well as boost. Index is same\n",
    "    seed_everything(config.SEED)\n",
    "    print(\"TRAIN:\", len(train_index), \"VALID:\", len(valid_index))\n",
    "    print('{} of KFold {}'.format(fold,kfold.n_splits))\n",
    "    X_train_rf,X_val_rf = train_rf_X.loc[train_index],train_rf_X.loc[valid_index]\n",
    "    y_train_rf,y_val_rf = train_rf_y.loc[train_index],train_rf_y.loc[valid_index]\n",
    "    X_train_boost,X_val_boost = train_boost_X.loc[train_index],train_boost_X.loc[valid_index]\n",
    "    y_train_boost,y_val_boost = train_boost_y.loc[train_index],train_boost_y.loc[valid_index]\n",
    "    \n",
    "    cat_features = np.where(X_train_boost.dtypes != np.int64)[0]\n",
    "    cat_features = list(set(cat_features) - set([36]))\n",
    "    X_train_rf,X_val_rf,y_train_rf,y_val_rf = np.array(X_train_rf), np.array(X_val_rf), np.array(y_train_rf), np.array(y_val_rf)\n",
    "    X_train_boost,X_val_boost,y_train_boost,y_val_boost = np.array(X_train_boost), np.array(X_val_boost), np.array(y_train_boost), np.array(y_val_boost)\n",
    "    \n",
    "    print(\"Fitting...\")\n",
    "    \"\"\"\n",
    "    n_estimators = [int(x) for x in np.linspace(start=200, stop=1000, num=5)]\n",
    "    max_depth = [int(x) for x in np.linspace(20, 100, num=10)]\n",
    "    max_depth.append(None)\n",
    "    min_samples_split = [2, 5, 10]\n",
    "    min_samples_leaf = [1, 2, 4] \n",
    "    bootstrap = [True, False]\n",
    "    max_features = ['auto', 'sqrt']\n",
    "    random_grid = {'n_estimators': n_estimators, 'max_depth': max_depth, 'min_samples_split': min_samples_split,\n",
    "                  'max_features': max_features, 'bootstrap': bootstrap,'min_samples_leaf':min_samples_leaf }\n",
    "    rf_cv=RandomizedSearchCV(estimator=rf,param_distributions=random_grid,n_iter=10, cv=3,random_state=config.SEED, n_jobs=-1)\n",
    "    rf_cv.fit(X_train, y_train)\n",
    "    rf_best_params = rf_cv.best_params_\n",
    "    print(f\"Best paramters: {rf_best_params})\")\n",
    "    rf = RandomForestClassifier(**rf_best_params)\n",
    "    \"\"\"\n",
    "    rf = RandomForestClassifier(random_state=config.SEED, n_estimators = 100, min_samples_split = 4)\n",
    "    boost = CatBoostClassifier(random_seed=config.SEED)\n",
    "    rf.fit(X_train_rf, y_train_rf)\n",
    "    boost.fit(X_train_boost, y_train_boost, cat_features=cat_features, eval_set=(X_val_boost, y_val_boost), verbose=False)\n",
    "\n",
    "    \n",
    "    print(\"Predicting...\")\n",
    "    \"\"\"\n",
    "    net = Net(X_train)\n",
    "    optimizer = torch.optim.Adam(net.parameters(), lr=learning_rate)\n",
    "    for epoch in range(num_epochs):\n",
    "        print('Epoch {}'.format(epoch+1)) if (epoch+1)%5 == 0 else None\n",
    "        batch_no = len(X_train) // batch_size\n",
    "\n",
    "        for i in range(batch_no):\n",
    "            start = i * batch_size\n",
    "            end = start + batch_size\n",
    "            x_batch = Variable(torch.FloatTensor(X_train[start:end]))\n",
    "            y_batch = Variable(torch.LongTensor(y_train[start:end]))\n",
    "\n",
    "            optimizer.zero_grad()\n",
    "            pred_batch = net(x_batch)\n",
    "            loss = criterion(pred_batch, y_batch)\n",
    "            loss.backward()\n",
    "            optimizer.step()\n",
    "        \n",
    "    val_ = Variable(torch.FloatTensor(X_val), requires_grad=True)\n",
    "    with torch.no_grad():\n",
    "        preds_ = net(val_)\n",
    "    values, labels = torch.max(preds_, 1)\n",
    "    num_right = np.sum(labels.data.numpy() == y_val)\n",
    "    print('Accuracy {:.4f}'.format(num_right / len(y_val)))\n",
    "    \"\"\"\n",
    "    preds_rf = rf.predict(X_val_rf)\n",
    "    preds_test_rf = rf.predict(test_rf_X)\n",
    "    preds_boost = np.round(boost.predict(X_val_boost))\n",
    "    preds_test_boost = np.round(boost.predict(test_boost_X))\n",
    "    ##preds_test_boost = boost.predict_proba(test_boost_X)[:,-1]\n",
    "    \n",
    "    print(\"Scoring...\")\n",
    "    acc_rf = (preds_rf == y_val_rf).sum()/len(y_val_rf)\n",
    "    print(\"Accuracy RF:\", round(acc_rf, 4))\n",
    "    cv_score_rf.append(acc_rf)    \n",
    "    \n",
    "    acc_boost = (preds_boost == y_val_boost).sum()/len(y_val_boost)\n",
    "    print(\"Accuracy Boost:\", round(acc_boost, 4), \"\\n\")\n",
    "    cv_score_boost.append(acc_boost)    \n",
    "    \n",
    "    preds_ensemble_rf += preds_test_rf\n",
    "    preds_ensemble_boost += preds_test_boost\n",
    "    fold+=1 \n",
    "    \n",
    "print(\"\\nFinal score RF:\", round(np.mean(cv_score_rf), 4))\n",
    "print(\"\\nFinal score Boost:\", round(np.mean(cv_score_boost), 4))"
   ]
  },
  {
   "cell_type": "code",
   "execution_count": 32,
   "id": "deab9662",
   "metadata": {
    "execution": {
     "iopub.execute_input": "2021-11-15T17:08:57.002916Z",
     "iopub.status.busy": "2021-11-15T17:08:57.002213Z",
     "iopub.status.idle": "2021-11-15T17:08:57.012287Z",
     "shell.execute_reply": "2021-11-15T17:08:57.011641Z",
     "shell.execute_reply.started": "2021-11-15T16:08:59.289584Z"
    },
    "papermill": {
     "duration": 0.066994,
     "end_time": "2021-11-15T17:08:57.012439",
     "exception": false,
     "start_time": "2021-11-15T17:08:56.945445",
     "status": "completed"
    },
    "tags": []
   },
   "outputs": [],
   "source": [
    "final_preds_rf = preds_ensemble_rf/10\n",
    "final_preds_boost = preds_ensemble_boost/10\n",
    "\n",
    "final_preds_rf[final_preds_rf>=0.5] = 1\n",
    "final_preds_boost[final_preds_boost>=0.5] = 1\n",
    "\n",
    "final_preds_rf[final_preds_rf<0.5] = 0\n",
    "final_preds_boost[final_preds_boost<0.5] = 0\n",
    "\n",
    "final_preds_rf = final_preds_rf.astype(int)\n",
    "final_preds_boost = final_preds_boost.astype(int)"
   ]
  },
  {
   "cell_type": "code",
   "execution_count": 33,
   "id": "4e02d1a6",
   "metadata": {
    "execution": {
     "iopub.execute_input": "2021-11-15T17:08:57.123965Z",
     "iopub.status.busy": "2021-11-15T17:08:57.123244Z",
     "iopub.status.idle": "2021-11-15T17:08:57.126468Z",
     "shell.execute_reply": "2021-11-15T17:08:57.127029Z"
    },
    "papermill": {
     "duration": 0.060228,
     "end_time": "2021-11-15T17:08:57.127207",
     "exception": false,
     "start_time": "2021-11-15T17:08:57.066979",
     "status": "completed"
    },
    "tags": []
   },
   "outputs": [],
   "source": [
    "##Unfortunately it looks like ensembling with RF lowers score\n",
    "##final_preds = np.round((final_preds_rf + final_preds_boost)/2).astype(int)\n",
    "final_preds = final_preds_boost"
   ]
  },
  {
   "cell_type": "code",
   "execution_count": 34,
   "id": "d833d439",
   "metadata": {
    "execution": {
     "iopub.execute_input": "2021-11-15T17:08:57.240603Z",
     "iopub.status.busy": "2021-11-15T17:08:57.237534Z",
     "iopub.status.idle": "2021-11-15T17:08:57.386802Z",
     "shell.execute_reply": "2021-11-15T17:08:57.387343Z"
    },
    "papermill": {
     "duration": 0.206322,
     "end_time": "2021-11-15T17:08:57.387516",
     "exception": false,
     "start_time": "2021-11-15T17:08:57.181194",
     "status": "completed"
    },
    "tags": []
   },
   "outputs": [],
   "source": [
    "out=pd.DataFrame(dict(Id = test[\"Id\"].values, Fault = final_preds))\n",
    "out.to_csv(\"out3.csv\", index=False)"
   ]
  },
  {
   "cell_type": "code",
   "execution_count": null,
   "id": "7f114072",
   "metadata": {
    "papermill": {
     "duration": 0.053412,
     "end_time": "2021-11-15T17:08:57.494733",
     "exception": false,
     "start_time": "2021-11-15T17:08:57.441321",
     "status": "completed"
    },
    "tags": []
   },
   "outputs": [],
   "source": []
  }
 ],
 "metadata": {
  "kernelspec": {
   "display_name": "Python 3",
   "language": "python",
   "name": "python3"
  },
  "language_info": {
   "codemirror_mode": {
    "name": "ipython",
    "version": 3
   },
   "file_extension": ".py",
   "mimetype": "text/x-python",
   "name": "python",
   "nbconvert_exporter": "python",
   "pygments_lexer": "ipython3",
   "version": "3.7.10"
  },
  "papermill": {
   "default_parameters": {},
   "duration": 2104.796685,
   "end_time": "2021-11-15T17:08:58.564275",
   "environment_variables": {},
   "exception": null,
   "input_path": "__notebook__.ipynb",
   "output_path": "__notebook__.ipynb",
   "parameters": {},
   "start_time": "2021-11-15T16:33:53.767590",
   "version": "2.3.3"
  }
 },
 "nbformat": 4,
 "nbformat_minor": 5
}
